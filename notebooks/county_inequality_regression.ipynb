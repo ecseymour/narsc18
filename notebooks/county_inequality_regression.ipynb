{
 "cells": [
  {
   "cell_type": "code",
   "execution_count": 28,
   "metadata": {},
   "outputs": [],
   "source": [
    "from pysqlite2 import dbapi2 as sql\n",
    "import pandas as pd\n",
    "import numpy as np\n",
    "from matplotlib import pyplot as plt\n",
    "import seaborn as sns\n",
    "%matplotlib inline\n",
    "sns.set(style=\"darkgrid\")\n",
    "\n",
    "import statsmodels.api as sm\n",
    "import statsmodels.formula.api as smf"
   ]
  },
  {
   "cell_type": "code",
   "execution_count": 29,
   "metadata": {},
   "outputs": [
    {
     "name": "stdout",
     "output_type": "stream",
     "text": [
      "3108\n"
     ]
    }
   ],
   "source": [
    "db = \"/home/eric/Documents/franklin/narsc2018/generated_data/narsc18.sqlite\"\n",
    "con = sql.connect(db)\n",
    "qry = '''\n",
    "SELECT\n",
    "A.STATE,\n",
    "A.CL8AA1990 AS pop90,\n",
    "A.CL8AA2000 AS pop00,\n",
    "A.CL8AA2010 AS pop10,\n",
    "B.*,\n",
    "C.metro,\n",
    "C.econdep,\n",
    "D.pwhite_10,\n",
    "D.pwhite_00,\n",
    "D.pwhite_90\n",
    "FROM nhgis_pop_race_norm_90_10 AS A\n",
    "JOIN county_gini AS B ON A.GISJOIN = B.GISJOIN\n",
    "JOIN usda_typology_2004 AS C \n",
    "    ON  A.STATEA || A.COUNTYA = C.FIPSTXT\n",
    "JOIN county_diversity AS D \n",
    "    ON A.GISJOIN = D.GISJOIN\n",
    "WHERE A.STATE NOT IN ('Alaska', 'Hawaii', 'District Of Columbia')\n",
    ";\n",
    "'''\n",
    "df = pd.read_sql(qry, con, index_col='GISJOIN')\n",
    "con.close()\n",
    "print len(df)"
   ]
  },
  {
   "cell_type": "code",
   "execution_count": 30,
   "metadata": {},
   "outputs": [
    {
     "data": {
      "text/plain": [
       "array([u'Alabama', u'Arizona', u'Arkansas', u'California', u'Colorado',\n",
       "       u'Connecticut', u'Delaware', u'Florida', u'Georgia', u'Idaho',\n",
       "       u'Illinois', u'Indiana', u'Iowa', u'Kansas', u'Kentucky',\n",
       "       u'Louisiana', u'Maine', u'Maryland', u'Massachusetts', u'Michigan',\n",
       "       u'Minnesota', u'Mississippi', u'Missouri', u'Montana', u'Nebraska',\n",
       "       u'Nevada', u'New Hampshire', u'New Jersey', u'New Mexico',\n",
       "       u'New York', u'North Carolina', u'North Dakota', u'Ohio',\n",
       "       u'Oklahoma', u'Oregon', u'Pennsylvania', u'Rhode Island',\n",
       "       u'South Carolina', u'South Dakota', u'Tennessee', u'Texas', u'Utah',\n",
       "       u'Vermont', u'Virginia', u'Washington', u'West Virginia',\n",
       "       u'Wisconsin', u'Wyoming'], dtype=object)"
      ]
     },
     "execution_count": 30,
     "metadata": {},
     "output_type": "execute_result"
    }
   ],
   "source": [
    "df.STATE.unique()"
   ]
  },
  {
   "cell_type": "code",
   "execution_count": 31,
   "metadata": {},
   "outputs": [
    {
     "name": "stdout",
     "output_type": "stream",
     "text": [
      "3105\n"
     ]
    }
   ],
   "source": [
    "# merge with census regions\n",
    "db = \"/home/eric/Documents/franklin/narsc2018/generated_data/narsc18.sqlite\"\n",
    "con = sql.connect(db)\n",
    "con.enable_load_extension(True)\n",
    "con.execute(\"SELECT load_extension('mod_spatialite');\")\n",
    "\n",
    "qry = '''\n",
    "SELECT A.gisjoin, B.name AS region\n",
    "FROM us_county_2010 AS A, census_regions_10 AS B\n",
    "WHERE ST_Contains(B.geometry, ST_Centroid(A.geometry))\n",
    "AND A.ROWID IN (SELECT ROWID FROM SpatialIndex\n",
    "    WHERE f_table_name = 'us_county_2010' AND search_frame = B.geometry )\n",
    ";\n",
    "'''\n",
    "\n",
    "df2 = pd.read_sql(qry, con, index_col='gisjoin')\n",
    "con.close()\n",
    "df = pd.merge(df, df2, left_index=True, right_index=True)\n",
    "print len(df)"
   ]
  },
  {
   "cell_type": "code",
   "execution_count": 32,
   "metadata": {},
   "outputs": [
    {
     "data": {
      "text/html": [
       "<div>\n",
       "<style>\n",
       "    .dataframe thead tr:only-child th {\n",
       "        text-align: right;\n",
       "    }\n",
       "\n",
       "    .dataframe thead th {\n",
       "        text-align: left;\n",
       "    }\n",
       "\n",
       "    .dataframe tbody tr th {\n",
       "        vertical-align: top;\n",
       "    }\n",
       "</style>\n",
       "<table border=\"1\" class=\"dataframe\">\n",
       "  <thead>\n",
       "    <tr style=\"text-align: right;\">\n",
       "      <th>growth_cat</th>\n",
       "      <th>growing</th>\n",
       "      <th>shrinking</th>\n",
       "      <th>stable</th>\n",
       "      <th>All</th>\n",
       "    </tr>\n",
       "    <tr>\n",
       "      <th>growth_cat_90s</th>\n",
       "      <th></th>\n",
       "      <th></th>\n",
       "      <th></th>\n",
       "      <th></th>\n",
       "    </tr>\n",
       "  </thead>\n",
       "  <tbody>\n",
       "    <tr>\n",
       "      <th>growing</th>\n",
       "      <td>1183</td>\n",
       "      <td>287</td>\n",
       "      <td>454</td>\n",
       "      <td>1924</td>\n",
       "    </tr>\n",
       "    <tr>\n",
       "      <th>shrinking</th>\n",
       "      <td>46</td>\n",
       "      <td>529</td>\n",
       "      <td>99</td>\n",
       "      <td>674</td>\n",
       "    </tr>\n",
       "    <tr>\n",
       "      <th>stable</th>\n",
       "      <td>55</td>\n",
       "      <td>269</td>\n",
       "      <td>183</td>\n",
       "      <td>507</td>\n",
       "    </tr>\n",
       "    <tr>\n",
       "      <th>All</th>\n",
       "      <td>1284</td>\n",
       "      <td>1085</td>\n",
       "      <td>736</td>\n",
       "      <td>3105</td>\n",
       "    </tr>\n",
       "  </tbody>\n",
       "</table>\n",
       "</div>"
      ],
      "text/plain": [
       "growth_cat      growing  shrinking  stable   All\n",
       "growth_cat_90s                                  \n",
       "growing            1183        287     454  1924\n",
       "shrinking            46        529      99   674\n",
       "stable               55        269     183   507\n",
       "All                1284       1085     736  3105"
      ]
     },
     "execution_count": 32,
     "metadata": {},
     "output_type": "execute_result"
    }
   ],
   "source": [
    "# create categories for pop change 2000 to 2010\n",
    "# calc pop change in each decade\n",
    "df['ppctchg_0010'] = ( df['pop10'] - df['pop00'] ) * 1.0 / df['pop00'] * 100\n",
    "df['ppctchg_9000'] = ( df['pop00'] - df['pop90'] ) * 1.0 / df['pop90'] * 100\n",
    "# growth categories 2000-2010\n",
    "df['growth_cat'] = 0\n",
    "df.loc[df['ppctchg_0010'] >= 5, 'growth_cat'] = 'growing'\n",
    "df.loc[(df['ppctchg_0010'] < 5) & (df['ppctchg_0010'] >= 0 ), 'growth_cat'] = 'stable'\n",
    "df.loc[df['ppctchg_0010'] < 0, 'growth_cat'] = 'shrinking'\n",
    "# growth categories 1990-2000\n",
    "df['growth_cat_90s'] = 0\n",
    "df.loc[df['ppctchg_9000'] >= 5, 'growth_cat_90s'] = 'growing'\n",
    "df.loc[(df['ppctchg_9000'] < 5) & (df['ppctchg_9000'] >= 0 ), 'growth_cat_90s'] = 'stable'\n",
    "df.loc[df['ppctchg_9000'] < 0, 'growth_cat_90s'] = 'shrinking'\n",
    "# xtab counties between 1990s and 2000s in terms of pop change category\n",
    "pd.crosstab(df['growth_cat_90s'], df['growth_cat'], margins=True)"
   ]
  },
  {
   "cell_type": "code",
   "execution_count": 33,
   "metadata": {
    "collapsed": true
   },
   "outputs": [],
   "source": [
    "# gen outcome vars\n",
    "df['gini_diff_9000'] = df['gini_00'] - df['gini_90']\n",
    "df['gini_diff_0010'] = df['gini_10'] - df['gini_00']"
   ]
  },
  {
   "cell_type": "code",
   "execution_count": 34,
   "metadata": {},
   "outputs": [
    {
     "data": {
      "text/plain": [
       "<seaborn.axisgrid.JointGrid at 0x7f6144fb7d10>"
      ]
     },
     "execution_count": 34,
     "metadata": {},
     "output_type": "execute_result"
    },
    {
     "data": {
      "image/png": "[encoded data removed]",
      "text/plain": [
       "<matplotlib.figure.Figure at 0x7f6144fb7dd0>"
      ]
     },
     "metadata": {},
     "output_type": "display_data"
    }
   ],
   "source": [
    "# plot difference in segregation score against percent pop change for both periods\n",
    "sns.jointplot('ppctchg_0010', 'gini_diff_0010', df, kind='reg')"
   ]
  },
  {
   "cell_type": "code",
   "execution_count": 35,
   "metadata": {},
   "outputs": [
    {
     "data": {
      "text/plain": [
       "<seaborn.axisgrid.JointGrid at 0x7f614b1bba90>"
      ]
     },
     "execution_count": 35,
     "metadata": {},
     "output_type": "execute_result"
    },
    {
     "data": {
      "image/png": "[encoded data removed]",
      "text/plain": [
       "<matplotlib.figure.Figure at 0x7f6144cf8cd0>"
      ]
     },
     "metadata": {},
     "output_type": "display_data"
    }
   ],
   "source": [
    "# plot difference in segregation score against percent pop change for both periods\n",
    "sns.jointplot('ppctchg_9000', 'gini_diff_9000', df, kind='reg')"
   ]
  },
  {
   "cell_type": "code",
   "execution_count": 36,
   "metadata": {},
   "outputs": [
    {
     "data": {
      "text/plain": [
       "Text(0.5,1,u'2000-2010')"
      ]
     },
     "execution_count": 36,
     "metadata": {},
     "output_type": "execute_result"
    },
    {
     "data": {
      "image/png": "[encoded data removed]",
      "text/plain": [
       "<matplotlib.figure.Figure at 0x7f61449a3e90>"
      ]
     },
     "metadata": {},
     "output_type": "display_data"
    }
   ],
   "source": [
    "# plot change in median diversity across periods\n",
    "# calculated using four groups\n",
    "w = 12\n",
    "h = 4\n",
    "fig, ((ax1, ax2)) = plt.subplots(nrows=1, ncols=2, sharey=True, figsize=(w,h))\n",
    "cols1 = ['gini_90', 'gini_00']\n",
    "cols2 = ['gini_00', 'gini_10']\n",
    "df.groupby('growth_cat_90s')[cols1].median().transpose().plot(ax=ax1)\n",
    "df.groupby('growth_cat')[cols2].median().transpose().plot(ax=ax2)\n",
    "ax1.set_title('1990-2000')\n",
    "ax2.set_title('2000-2010')"
   ]
  },
  {
   "cell_type": "code",
   "execution_count": 37,
   "metadata": {},
   "outputs": [
    {
     "name": "stdout",
     "output_type": "stream",
     "text": [
      "                            OLS Regression Results                            \n",
      "==============================================================================\n",
      "Dep. Variable:         gini_diff_0010   R-squared:                       0.030\n",
      "Model:                            OLS   Adj. R-squared:                  0.030\n",
      "Method:                 Least Squares   F-statistic:                     91.35\n",
      "Date:                Tue, 16 Oct 2018   Prob (F-statistic):           2.36e-21\n",
      "Time:                        22:30:57   Log-Likelihood:                 7493.7\n",
      "No. Observations:                3104   AIC:                        -1.498e+04\n",
      "Df Residuals:                    3102   BIC:                        -1.497e+04\n",
      "Df Model:                           1                                         \n",
      "Covariance Type:                  HC3                                         \n",
      "================================================================================\n",
      "                   coef    std err          z      P>|z|      [0.025      0.975]\n",
      "--------------------------------------------------------------------------------\n",
      "Intercept        0.0189      0.000     43.261      0.000       0.018       0.020\n",
      "ppctchg_0010     0.0003   3.03e-05      9.558      0.000       0.000       0.000\n",
      "==============================================================================\n",
      "Omnibus:                      155.328   Durbin-Watson:                   1.804\n",
      "Prob(Omnibus):                  0.000   Jarque-Bera (JB):              307.130\n",
      "Skew:                          -0.356   Prob(JB):                     2.03e-67\n",
      "Kurtosis:                       4.367   Cond. No.                         15.3\n",
      "==============================================================================\n",
      "\n",
      "Warnings:\n",
      "[1] Standard Errors are heteroscedasticity robust (HC3)\n"
     ]
    }
   ],
   "source": [
    "# base model = diff in ineq on pop pct change\n",
    "m = 'gini_diff_0010 ~ ppctchg_0010'\n",
    "results = smf.ols(m, data=df).fit(cov_type='HC3')\n",
    "print results.summary()"
   ]
  },
  {
   "cell_type": "code",
   "execution_count": 38,
   "metadata": {
    "scrolled": true
   },
   "outputs": [
    {
     "name": "stdout",
     "output_type": "stream",
     "text": [
      "                            OLS Regression Results                            \n",
      "==============================================================================\n",
      "Dep. Variable:         gini_diff_0010   R-squared:                       0.264\n",
      "Model:                            OLS   Adj. R-squared:                  0.251\n",
      "Method:                 Least Squares   F-statistic:                     18.60\n",
      "Date:                Tue, 16 Oct 2018   Prob (F-statistic):          1.05e-148\n",
      "Time:                        22:30:57   Log-Likelihood:                 7921.0\n",
      "No. Observations:                3104   AIC:                        -1.574e+04\n",
      "Df Residuals:                    3051   BIC:                        -1.542e+04\n",
      "Df Model:                          52                                         \n",
      "Covariance Type:                  HC3                                         \n",
      "===========================================================================================\n",
      "                              coef    std err          z      P>|z|      [0.025      0.975]\n",
      "-------------------------------------------------------------------------------------------\n",
      "Intercept                   0.1130      0.375      0.301      0.763      -0.622       0.848\n",
      "STATE[T.Arizona]           -0.0072      0.032     -0.227      0.820      -0.069       0.055\n",
      "STATE[T.Arkansas]         3.07e-05      0.003      0.012      0.990      -0.005       0.005\n",
      "STATE[T.California]        -0.0050      0.031     -0.161      0.872      -0.066       0.056\n",
      "STATE[T.Colorado]           0.0065      0.031      0.207      0.836      -0.055       0.068\n",
      "STATE[T.Connecticut]        0.0048      0.038      0.128      0.898      -0.069       0.079\n",
      "STATE[T.Delaware]          -0.0042      0.009     -0.472      0.637      -0.022       0.013\n",
      "STATE[T.Florida]           -0.0028      0.003     -0.943      0.346      -0.009       0.003\n",
      "STATE[T.Georgia]            0.0056      0.002      2.295      0.022       0.001       0.010\n",
      "STATE[T.Idaho]             -0.0072      0.031     -0.227      0.820      -0.069       0.054\n",
      "STATE[T.Illinois]          -0.0043      0.375     -0.011      0.991      -0.739       0.731\n",
      "STATE[T.Indiana]           -0.0121      0.375     -0.032      0.974      -0.747       0.723\n",
      "STATE[T.Iowa]              -0.0041      0.375     -0.011      0.991      -0.739       0.731\n",
      "STATE[T.Kansas]            -0.0145      0.375     -0.039      0.969      -0.750       0.721\n",
      "STATE[T.Kentucky]           0.0081      0.003      3.159      0.002       0.003       0.013\n",
      "STATE[T.Louisiana]          0.0076      0.003      2.752      0.006       0.002       0.013\n",
      "STATE[T.Maine]             -0.0142      0.038     -0.378      0.705      -0.088       0.059\n",
      "STATE[T.Maryland]           0.0153      0.004      4.190      0.000       0.008       0.023\n",
      "STATE[T.Massachusetts]      0.0074      0.038      0.196      0.845      -0.066       0.081\n",
      "STATE[T.Michigan]          -0.0108      0.375     -0.029      0.977      -0.746       0.724\n",
      "STATE[T.Minnesota]         -0.0054      0.375     -0.014      0.989      -0.740       0.730\n",
      "STATE[T.Mississippi]        0.0017      0.003      0.569      0.569      -0.004       0.007\n",
      "STATE[T.Missouri]          -0.0131      0.375     -0.035      0.972      -0.748       0.722\n",
      "STATE[T.Montana]            0.0039      0.031      0.125      0.900      -0.058       0.066\n",
      "STATE[T.Nebraska]          -0.0095      0.375     -0.025      0.980      -0.744       0.726\n",
      "STATE[T.Nevada]             0.0005      0.032      0.015      0.988      -0.062       0.063\n",
      "STATE[T.New Hampshire]     -0.0002      0.038     -0.006      0.995      -0.074       0.074\n",
      "STATE[T.New Jersey]         0.0077      0.038      0.205      0.837      -0.066       0.081\n",
      "STATE[T.New Mexico]         0.0008      0.031      0.025      0.980      -0.061       0.062\n",
      "STATE[T.New York]          -0.0050      0.038     -0.132      0.895      -0.079       0.069\n",
      "STATE[T.North Carolina]     0.0009      0.002      0.364      0.716      -0.004       0.006\n",
      "STATE[T.North Dakota]       0.0164      0.375      0.044      0.965      -0.719       0.751\n",
      "STATE[T.Ohio]              -0.0097      0.375     -0.026      0.979      -0.745       0.725\n",
      "STATE[T.Oklahoma]          -0.0006      0.003     -0.210      0.834      -0.006       0.005\n",
      "STATE[T.Oregon]             0.0032      0.031      0.103      0.918      -0.058       0.065\n",
      "STATE[T.Pennsylvania]      -0.0129      0.038     -0.344      0.731      -0.087       0.061\n",
      "STATE[T.Rhode Island]       0.0116      0.038      0.304      0.761      -0.063       0.087\n",
      "STATE[T.South Carolina]     0.0015      0.003      0.509      0.610      -0.004       0.007\n",
      "STATE[T.South Dakota]      -0.0002      0.375     -0.001      1.000      -0.735       0.735\n",
      "STATE[T.Tennessee]          0.0020      0.003      0.741      0.459      -0.003       0.007\n",
      "STATE[T.Texas]              0.0040      0.002      1.776      0.076      -0.000       0.008\n",
      "STATE[T.Utah]              -0.0012      0.031     -0.037      0.971      -0.063       0.061\n",
      "STATE[T.Vermont]           -0.0018      0.038     -0.048      0.962      -0.076       0.072\n",
      "STATE[T.Virginia]           0.0058      0.003      2.129      0.033       0.000       0.011\n",
      "STATE[T.Washington]         0.0017      0.031      0.056      0.956      -0.060       0.063\n",
      "STATE[T.West Virginia]      0.0007      0.003      0.203      0.839      -0.006       0.007\n",
      "STATE[T.Wisconsin]         -0.0114      0.375     -0.030      0.976      -0.746       0.724\n",
      "STATE[T.Wyoming]           -0.0043      0.032     -0.135      0.893      -0.066       0.058\n",
      "region[T.Northeast]        -0.0025      0.338     -0.008      0.994      -0.664       0.659\n",
      "region[T.South]            -0.0116      0.375     -0.031      0.975      -0.747       0.723\n",
      "region[T.West]             -0.0081      0.344     -0.023      0.981      -0.682       0.666\n",
      "ppctchg_0010             4.367e-05   3.42e-05      1.276      0.202   -2.34e-05       0.000\n",
      "np.log(pop00)               0.0054      0.000     14.188      0.000       0.005       0.006\n",
      "pwhite_00                  -0.0098      0.004     -2.707      0.007      -0.017      -0.003\n",
      "gini_00                    -0.3041      0.021    -14.268      0.000      -0.346      -0.262\n",
      "==============================================================================\n",
      "Omnibus:                      133.661   Durbin-Watson:                   2.003\n",
      "Prob(Omnibus):                  0.000   Jarque-Bera (JB):              334.642\n",
      "Skew:                           0.221   Prob(JB):                     2.15e-73\n",
      "Kurtosis:                       4.546   Cond. No.                     1.32e+16\n",
      "==============================================================================\n",
      "\n",
      "Warnings:\n",
      "[1] Standard Errors are heteroscedasticity robust (HC3)\n",
      "[2] The smallest eigenvalue is 4.14e-27. This might indicate that there are\n",
      "strong multicollinearity problems or that the design matrix is singular.\n"
     ]
    }
   ],
   "source": [
    "# regress change in specialization (t2 - t1)  on pop change\n",
    "m = 'gini_diff_0010 ~ ppctchg_0010 + np.log(pop00) + pwhite_00 + gini_00 + STATE + region'\n",
    "results = smf.ols(m, data=df).fit(cov_type='HC3')\n",
    "print results.summary()"
   ]
  },
  {
   "cell_type": "code",
   "execution_count": 39,
   "metadata": {
    "scrolled": true
   },
   "outputs": [
    {
     "name": "stdout",
     "output_type": "stream",
     "text": [
      "                            OLS Regression Results                            \n",
      "==============================================================================\n",
      "Dep. Variable:         gini_diff_9000   R-squared:                       0.343\n",
      "Model:                            OLS   Adj. R-squared:                  0.332\n",
      "Method:                 Least Squares   F-statistic:                     25.67\n",
      "Date:                Tue, 16 Oct 2018   Prob (F-statistic):          1.04e-205\n",
      "Time:                        22:30:57   Log-Likelihood:                 8812.9\n",
      "No. Observations:                3103   AIC:                        -1.752e+04\n",
      "Df Residuals:                    3050   BIC:                        -1.720e+04\n",
      "Df Model:                          52                                         \n",
      "Covariance Type:                  HC3                                         \n",
      "===========================================================================================\n",
      "                              coef    std err          z      P>|z|      [0.025      0.975]\n",
      "-------------------------------------------------------------------------------------------\n",
      "Intercept                   0.1681      1.563      0.108      0.914      -2.894       3.231\n",
      "STATE[T.Arizona]           -0.0067      0.130     -0.051      0.959      -0.262       0.249\n",
      "STATE[T.Arkansas]          -0.0063      0.002     -3.045      0.002      -0.010      -0.002\n",
      "STATE[T.California]         0.0105      0.130      0.081      0.936      -0.245       0.266\n",
      "STATE[T.Colorado]           0.0023      0.130      0.017      0.986      -0.253       0.258\n",
      "STATE[T.Connecticut]        0.0067      0.156      0.043      0.966      -0.300       0.313\n",
      "STATE[T.Delaware]          -0.0100      0.006     -1.791      0.073      -0.021       0.001\n",
      "STATE[T.Florida]           -0.0068      0.002     -3.245      0.001      -0.011      -0.003\n",
      "STATE[T.Georgia]           -0.0032      0.002     -1.569      0.117      -0.007       0.001\n",
      "STATE[T.Idaho]             -0.0027      0.130     -0.021      0.983      -0.258       0.253\n",
      "STATE[T.Illinois]          -0.0092      1.563     -0.006      0.995      -3.072       3.053\n",
      "STATE[T.Indiana]           -0.0078      1.563     -0.005      0.996      -3.070       3.055\n",
      "STATE[T.Iowa]              -0.0125      1.563     -0.008      0.994      -3.075       3.050\n",
      "STATE[T.Kansas]            -0.0068      1.563     -0.004      0.997      -3.069       3.056\n",
      "STATE[T.Kentucky]          -0.0035      0.002     -1.730      0.084      -0.007       0.000\n",
      "STATE[T.Louisiana]         -0.0047      0.002     -2.135      0.033      -0.009      -0.000\n",
      "STATE[T.Maine]             -0.0025      0.156     -0.016      0.987      -0.309       0.304\n",
      "STATE[T.Maryland]          -0.0113      0.003     -3.811      0.000      -0.017      -0.005\n",
      "STATE[T.Massachusetts]      0.0074      0.156      0.047      0.962      -0.299       0.314\n",
      "STATE[T.Michigan]          -0.0076      1.563     -0.005      0.996      -3.070       3.055\n",
      "STATE[T.Minnesota]         -0.0090      1.563     -0.006      0.995      -3.071       3.053\n",
      "STATE[T.Mississippi]       -0.0046      0.002     -2.013      0.044      -0.009      -0.000\n",
      "STATE[T.Missouri]          -0.0053      1.563     -0.003      0.997      -3.068       3.057\n",
      "STATE[T.Montana]         -3.17e-05      0.130     -0.000      1.000      -0.255       0.255\n",
      "STATE[T.Nebraska]          -0.0075      1.563     -0.005      0.996      -3.070       3.055\n",
      "STATE[T.Nevada]             0.0014      0.130      0.010      0.992      -0.254       0.257\n",
      "STATE[T.New Hampshire]     -0.0068      0.156     -0.044      0.965      -0.313       0.299\n",
      "STATE[T.New Jersey]         0.0059      0.156      0.038      0.970      -0.300       0.312\n",
      "STATE[T.New Mexico]        -0.0002      0.130     -0.002      0.998      -0.256       0.255\n",
      "STATE[T.New York]          -0.0021      0.156     -0.013      0.990      -0.308       0.304\n",
      "STATE[T.North Carolina]    -0.0044      0.002     -2.281      0.023      -0.008      -0.001\n",
      "STATE[T.North Dakota]       0.0042      1.563      0.003      0.998      -3.058       3.067\n",
      "STATE[T.Ohio]              -0.0075      1.563     -0.005      0.996      -3.070       3.055\n",
      "STATE[T.Oklahoma]          -0.0160      0.002     -7.829      0.000      -0.020      -0.012\n",
      "STATE[T.Oregon]             0.0002      0.130      0.002      0.999      -0.255       0.255\n",
      "STATE[T.Pennsylvania]      -0.0085      0.156     -0.054      0.957      -0.315       0.298\n",
      "STATE[T.Rhode Island]       0.0129      0.157      0.082      0.934      -0.294       0.320\n",
      "STATE[T.South Carolina]    -0.0042      0.002     -1.892      0.059      -0.009       0.000\n",
      "STATE[T.South Dakota]       0.0034      1.563      0.002      0.998      -3.059       3.066\n",
      "STATE[T.Tennessee]         -0.0038      0.002     -1.837      0.066      -0.008       0.000\n",
      "STATE[T.Texas]             -0.0167      0.002     -9.448      0.000      -0.020      -0.013\n",
      "STATE[T.Utah]              -0.0042      0.130     -0.032      0.974      -0.259       0.251\n",
      "STATE[T.Vermont]           -0.0058      0.156     -0.037      0.970      -0.312       0.300\n",
      "STATE[T.Virginia]          -0.0104      0.002     -4.684      0.000      -0.015      -0.006\n",
      "STATE[T.Washington]         0.0001      0.130      0.001      0.999      -0.255       0.255\n",
      "STATE[T.West Virginia]     -0.0064      0.002     -2.671      0.008      -0.011      -0.002\n",
      "STATE[T.Wisconsin]         -0.0127      1.563     -0.008      0.993      -3.075       3.050\n",
      "STATE[T.Wyoming]            0.0009      0.130      0.007      0.994      -0.254       0.256\n",
      "region[T.Northeast]         0.0072      1.406      0.005      0.996      -2.749       2.763\n",
      "region[T.South]             0.0122      1.563      0.008      0.994      -3.050       3.075\n",
      "region[T.West]              0.0015      1.432      0.001      0.999      -2.806       2.809\n",
      "ppctchg_9000               -0.0002   2.42e-05     -6.471      0.000      -0.000      -0.000\n",
      "np.log(pop90)               0.0017      0.000      6.353      0.000       0.001       0.002\n",
      "pwhite_90                  -0.0259      0.003     -8.131      0.000      -0.032      -0.020\n",
      "gini_90                    -0.3563      0.017    -21.090      0.000      -0.389      -0.323\n",
      "==============================================================================\n",
      "Omnibus:                      261.798   Durbin-Watson:                   1.969\n",
      "Prob(Omnibus):                  0.000   Jarque-Bera (JB):              839.688\n",
      "Skew:                           0.413   Prob(JB):                    4.61e-183\n",
      "Kurtosis:                       5.411   Cond. No.                     1.37e+16\n",
      "==============================================================================\n",
      "\n",
      "Warnings:\n",
      "[1] Standard Errors are heteroscedasticity robust (HC3)\n",
      "[2] The smallest eigenvalue is 7.04e-27. This might indicate that there are\n",
      "strong multicollinearity problems or that the design matrix is singular.\n"
     ]
    }
   ],
   "source": [
    "# regress change in specialization (t2 - t1)  on pop change\n",
    "m = 'gini_diff_9000 ~ ppctchg_9000 + np.log(pop90) + pwhite_90 + gini_90 + STATE + region'\n",
    "results = smf.ols(m, data=df).fit(cov_type='HC3')\n",
    "print results.summary()"
   ]
  },
  {
   "cell_type": "markdown",
   "metadata": {},
   "source": [
    "# piecewise regression"
   ]
  },
  {
   "cell_type": "code",
   "execution_count": 40,
   "metadata": {
    "collapsed": true
   },
   "outputs": [],
   "source": [
    "# create piecewise variables\n",
    "# gen new var with increasing values for pop change tracts alone\n",
    "df['pop_loss'] = 0\n",
    "df.loc[df['ppctchg_0010'] < 0, 'pop_loss'] = df['ppctchg_0010'] * -1\n",
    "df['intl'] = 1\n",
    "df.loc[df['ppctchg_0010'] >= 0, 'intl'] = 0\n",
    "\n",
    "df['pop_gain'] = 0\n",
    "df.loc[df['ppctchg_0010'] >= 0, 'pop_gain'] = df['ppctchg_0010']\n",
    "df['intg'] = 1\n",
    "df.loc[df['ppctchg_0010'] < 0, 'intg'] = 0"
   ]
  },
  {
   "cell_type": "code",
   "execution_count": 42,
   "metadata": {
    "scrolled": true
   },
   "outputs": [
    {
     "name": "stdout",
     "output_type": "stream",
     "text": [
      "                            OLS Regression Results                            \n",
      "==============================================================================\n",
      "Dep. Variable:         gini_diff_0010   R-squared:                       0.217\n",
      "Model:                            OLS   Adj. R-squared:                  0.203\n",
      "Method:                 Least Squares   F-statistic:                     15.02\n",
      "Date:                Tue, 16 Oct 2018   Prob (F-statistic):          3.93e-120\n",
      "Time:                        22:32:30   Log-Likelihood:                 7825.3\n",
      "No. Observations:                3104   AIC:                        -1.554e+04\n",
      "Df Residuals:                    3050   BIC:                        -1.522e+04\n",
      "Df Model:                          53                                         \n",
      "Covariance Type:                  HC3                                         \n",
      "===========================================================================================\n",
      "                              coef    std err          z      P>|z|      [0.025      0.975]\n",
      "-------------------------------------------------------------------------------------------\n",
      "Intercept                   0.1637      0.035      4.729      0.000       0.096       0.232\n",
      "STATE[T.Arizona]           -0.0048      0.005     -0.910      0.363      -0.015       0.006\n",
      "STATE[T.Arkansas]          -0.0012      0.003     -0.483      0.629      -0.006       0.004\n",
      "STATE[T.California]        -0.0013      0.004     -0.352      0.725      -0.009       0.006\n",
      "STATE[T.Colorado]           0.0053      0.004      1.284      0.199      -0.003       0.013\n",
      "STATE[T.Connecticut]        0.0077      0.004      1.758      0.079      -0.001       0.016\n",
      "STATE[T.Delaware]           0.0001      0.011      0.011      0.991      -0.022       0.022\n",
      "STATE[T.Florida]           -0.0031      0.003     -0.980      0.327      -0.009       0.003\n",
      "STATE[T.Georgia]            0.0009      0.002      0.370      0.711      -0.004       0.006\n",
      "STATE[T.Idaho]             -0.0090      0.005     -1.983      0.047      -0.018      -0.000\n",
      "STATE[T.Illinois]          -0.0005      0.033     -0.014      0.989      -0.065       0.064\n",
      "STATE[T.Indiana]           -0.0073      0.033     -0.220      0.825      -0.072       0.057\n",
      "STATE[T.Iowa]              -0.0011      0.033     -0.034      0.973      -0.066       0.063\n",
      "STATE[T.Kansas]            -0.0144      0.033     -0.436      0.663      -0.079       0.050\n",
      "STATE[T.Kentucky]           0.0057      0.003      2.214      0.027       0.001       0.011\n",
      "STATE[T.Louisiana]          0.0077      0.003      2.853      0.004       0.002       0.013\n",
      "STATE[T.Maine]             -0.0150      0.004     -3.540      0.000      -0.023      -0.007\n",
      "STATE[T.Maryland]           0.0182      0.004      4.381      0.000       0.010       0.026\n",
      "STATE[T.Massachusetts]      0.0092      0.005      1.812      0.070      -0.001       0.019\n",
      "STATE[T.Michigan]          -0.0047      0.033     -0.142      0.887      -0.069       0.060\n",
      "STATE[T.Minnesota]         -0.0025      0.033     -0.076      0.940      -0.067       0.062\n",
      "STATE[T.Mississippi]       -0.0004      0.003     -0.125      0.901      -0.006       0.005\n",
      "STATE[T.Missouri]          -0.0116      0.033     -0.354      0.723      -0.076       0.053\n",
      "STATE[T.Montana]            0.0007      0.004      0.158      0.874      -0.008       0.009\n",
      "STATE[T.Nebraska]          -0.0112      0.033     -0.339      0.735      -0.076       0.053\n",
      "STATE[T.Nevada]            -0.0019      0.007     -0.292      0.771      -0.015       0.011\n",
      "STATE[T.New Hampshire]      0.0002      0.005      0.032      0.975      -0.009       0.010\n",
      "STATE[T.New Jersey]         0.0107      0.004      2.555      0.011       0.003       0.019\n",
      "STATE[T.New Mexico]         0.0010      0.005      0.203      0.839      -0.008       0.010\n",
      "STATE[T.New York]          -0.0045      0.004     -1.185      0.236      -0.012       0.003\n",
      "STATE[T.North Carolina] -2.294e-05      0.003     -0.009      0.993      -0.005       0.005\n",
      "STATE[T.North Dakota]       0.0148      0.033      0.448      0.654      -0.050       0.080\n",
      "STATE[T.Ohio]              -0.0023      0.033     -0.070      0.944      -0.067       0.062\n",
      "STATE[T.Oklahoma]          -0.0033      0.003     -1.266      0.205      -0.008       0.002\n",
      "STATE[T.Oregon]             0.0066      0.004      1.651      0.099      -0.001       0.014\n",
      "STATE[T.Pennsylvania]      -0.0123      0.004     -3.269      0.001      -0.020      -0.005\n",
      "STATE[T.Rhode Island]       0.0142      0.007      1.968      0.049    5.97e-05       0.028\n",
      "STATE[T.South Carolina]     0.0015      0.003      0.501      0.616      -0.004       0.007\n",
      "STATE[T.South Dakota]      -0.0033      0.033     -0.100      0.920      -0.068       0.061\n",
      "STATE[T.Tennessee]          0.0007      0.003      0.245      0.806      -0.005       0.006\n",
      "STATE[T.Texas]             -0.0011      0.002     -0.471      0.638      -0.005       0.003\n",
      "STATE[T.Utah]              -0.0033      0.004     -0.741      0.459      -0.012       0.005\n",
      "STATE[T.Vermont]           -0.0051      0.005     -1.091      0.275      -0.014       0.004\n",
      "STATE[T.Virginia]           0.0033      0.003      1.166      0.244      -0.002       0.009\n",
      "STATE[T.Washington]         0.0048      0.004      1.092      0.275      -0.004       0.014\n",
      "STATE[T.West Virginia]  -3.625e-05      0.003     -0.010      0.992      -0.007       0.007\n",
      "STATE[T.Wisconsin]         -0.0064      0.033     -0.193      0.847      -0.071       0.058\n",
      "STATE[T.Wyoming]           -0.0061      0.006     -1.105      0.269      -0.017       0.005\n",
      "region[T.Northeast]         0.0052      0.030      0.175      0.861      -0.053       0.063\n",
      "region[T.South]            -0.0079      0.033     -0.242      0.809      -0.072       0.056\n",
      "region[T.West]             -0.0081      0.030     -0.268      0.789      -0.067       0.051\n",
      "pop_loss                   -0.0004      0.000     -3.884      0.000      -0.001      -0.000\n",
      "pop_gain                    0.0002   4.24e-05      4.705      0.000       0.000       0.000\n",
      "pop00                    1.032e-08   5.92e-09      1.741      0.082    -1.3e-09    2.19e-08\n",
      "pwhite_00                  -0.0148      0.004     -3.766      0.000      -0.022      -0.007\n",
      "gini_00                    -0.2928      0.023    -12.659      0.000      -0.338      -0.247\n",
      "==============================================================================\n",
      "Omnibus:                      130.188   Durbin-Watson:                   1.994\n",
      "Prob(Omnibus):                  0.000   Jarque-Bera (JB):              349.063\n",
      "Skew:                          -0.180   Prob(JB):                     1.59e-76\n",
      "Kurtosis:                       4.603   Cond. No.                     1.05e+16\n",
      "==============================================================================\n",
      "\n",
      "Warnings:\n",
      "[1] Standard Errors are heteroscedasticity robust (HC3)\n",
      "[2] The smallest eigenvalue is 2.67e-18. This might indicate that there are\n",
      "strong multicollinearity problems or that the design matrix is singular.\n"
     ]
    }
   ],
   "source": [
    "# regress change in specialization (t2 - t1)  on pop change\n",
    "m = 'gini_diff_0010 ~ pop_loss + pop_gain + pop00 + pwhite_00 + gini_00 + STATE + region'\n",
    "results = smf.ols(m, data=df).fit(cov_type='HC3')\n",
    "print results.summary()"
   ]
  },
  {
   "cell_type": "markdown",
   "metadata": {},
   "source": [
    "# predicted values"
   ]
  },
  {
   "cell_type": "code",
   "execution_count": 56,
   "metadata": {},
   "outputs": [
    {
     "data": {
      "text/html": [
       "<div>\n",
       "<style>\n",
       "    .dataframe thead tr:only-child th {\n",
       "        text-align: right;\n",
       "    }\n",
       "\n",
       "    .dataframe thead th {\n",
       "        text-align: left;\n",
       "    }\n",
       "\n",
       "    .dataframe tbody tr th {\n",
       "        vertical-align: top;\n",
       "    }\n",
       "</style>\n",
       "<table border=\"1\" class=\"dataframe\">\n",
       "  <thead>\n",
       "    <tr style=\"text-align: right;\">\n",
       "      <th></th>\n",
       "      <th>gini_diff_0010</th>\n",
       "      <th>ppctchg_0010</th>\n",
       "      <th>pop00_ln</th>\n",
       "      <th>pwhite_00</th>\n",
       "      <th>region_Northeast</th>\n",
       "      <th>region_South</th>\n",
       "      <th>region_West</th>\n",
       "      <th>intercept</th>\n",
       "    </tr>\n",
       "  </thead>\n",
       "  <tbody>\n",
       "    <tr>\n",
       "      <th>G0100010</th>\n",
       "      <td>0.013496</td>\n",
       "      <td>24.953919</td>\n",
       "      <td>10.684483</td>\n",
       "      <td>0.797373</td>\n",
       "      <td>0</td>\n",
       "      <td>1</td>\n",
       "      <td>0</td>\n",
       "      <td>1.0</td>\n",
       "    </tr>\n",
       "    <tr>\n",
       "      <th>G0100030</th>\n",
       "      <td>0.019744</td>\n",
       "      <td>29.804508</td>\n",
       "      <td>11.852358</td>\n",
       "      <td>0.860791</td>\n",
       "      <td>0</td>\n",
       "      <td>1</td>\n",
       "      <td>0</td>\n",
       "      <td>1.0</td>\n",
       "    </tr>\n",
       "    <tr>\n",
       "      <th>G0100050</th>\n",
       "      <td>-0.006408</td>\n",
       "      <td>-5.447358</td>\n",
       "      <td>10.276390</td>\n",
       "      <td>0.509257</td>\n",
       "      <td>0</td>\n",
       "      <td>1</td>\n",
       "      <td>0</td>\n",
       "      <td>1.0</td>\n",
       "    </tr>\n",
       "    <tr>\n",
       "      <th>G0100070</th>\n",
       "      <td>0.004886</td>\n",
       "      <td>10.028565</td>\n",
       "      <td>9.943977</td>\n",
       "      <td>0.762032</td>\n",
       "      <td>0</td>\n",
       "      <td>1</td>\n",
       "      <td>0</td>\n",
       "      <td>1.0</td>\n",
       "    </tr>\n",
       "    <tr>\n",
       "      <th>G0100090</th>\n",
       "      <td>0.008622</td>\n",
       "      <td>12.333062</td>\n",
       "      <td>10.840142</td>\n",
       "      <td>0.921117</td>\n",
       "      <td>0</td>\n",
       "      <td>1</td>\n",
       "      <td>0</td>\n",
       "      <td>1.0</td>\n",
       "    </tr>\n",
       "  </tbody>\n",
       "</table>\n",
       "</div>"
      ],
      "text/plain": [
       "          gini_diff_0010  ppctchg_0010   pop00_ln  pwhite_00  \\\n",
       "G0100010        0.013496     24.953919  10.684483   0.797373   \n",
       "G0100030        0.019744     29.804508  11.852358   0.860791   \n",
       "G0100050       -0.006408     -5.447358  10.276390   0.509257   \n",
       "G0100070        0.004886     10.028565   9.943977   0.762032   \n",
       "G0100090        0.008622     12.333062  10.840142   0.921117   \n",
       "\n",
       "          region_Northeast  region_South  region_West  intercept  \n",
       "G0100010                 0             1            0        1.0  \n",
       "G0100030                 0             1            0        1.0  \n",
       "G0100050                 0             1            0        1.0  \n",
       "G0100070                 0             1            0        1.0  \n",
       "G0100090                 0             1            0        1.0  "
      ]
     },
     "execution_count": 56,
     "metadata": {},
     "output_type": "execute_result"
    }
   ],
   "source": [
    "# generate new vars for prediction \n",
    "df['pop00_ln'] = np.log(df['pop00'])\n",
    "\n",
    "dummy_regions = pd.get_dummies(df['region'], prefix='region')\n",
    "\n",
    "cols_to_keep = ['gini_diff_0010', 'ppctchg_0010', 'pop00_ln', 'pwhite_00']\n",
    "data = df[cols_to_keep].join(dummy_regions.loc[:, 'region_Northeast':])\n",
    "\n",
    "data = data.dropna()\n",
    "\n",
    "data['intercept'] = 1.0\n",
    "data.head()"
   ]
  },
  {
   "cell_type": "code",
   "execution_count": 57,
   "metadata": {},
   "outputs": [],
   "source": [
    "# remove DV from dataframe to supply to reg model\n",
    "train_cols = data.columns[1:]"
   ]
  },
  {
   "cell_type": "code",
   "execution_count": 58,
   "metadata": {},
   "outputs": [
    {
     "name": "stdout",
     "output_type": "stream",
     "text": [
      "                            OLS Regression Results                            \n",
      "==============================================================================\n",
      "Dep. Variable:         gini_diff_0010   R-squared:                       0.128\n",
      "Model:                            OLS   Adj. R-squared:                  0.126\n",
      "Method:                 Least Squares   F-statistic:                     64.02\n",
      "Date:                Tue, 16 Oct 2018   Prob (F-statistic):           3.47e-75\n",
      "Time:                        22:37:11   Log-Likelihood:                 7658.7\n",
      "No. Observations:                3104   AIC:                        -1.530e+04\n",
      "Df Residuals:                    3097   BIC:                        -1.526e+04\n",
      "Df Model:                           6                                         \n",
      "Covariance Type:                  HC3                                         \n",
      "====================================================================================\n",
      "                       coef    std err          z      P>|z|      [0.025      0.975]\n",
      "------------------------------------------------------------------------------------\n",
      "ppctchg_0010         0.0002   3.34e-05      5.727      0.000       0.000       0.000\n",
      "pop00_ln             0.0041      0.000     10.958      0.000       0.003       0.005\n",
      "pwhite_00            0.0077      0.003      2.465      0.014       0.002       0.014\n",
      "region_Northeast    -0.0037      0.001     -3.382      0.001      -0.006      -0.002\n",
      "region_South        -0.0086      0.001     -8.262      0.000      -0.011      -0.007\n",
      "region_West         -0.0036      0.001     -2.559      0.011      -0.006      -0.001\n",
      "intercept           -0.0245      0.006     -4.200      0.000      -0.036      -0.013\n",
      "==============================================================================\n",
      "Omnibus:                      113.143   Durbin-Watson:                   1.887\n",
      "Prob(Omnibus):                  0.000   Jarque-Bera (JB):              295.324\n",
      "Skew:                           0.136   Prob(JB):                     7.44e-65\n",
      "Kurtosis:                       4.486   Cond. No.                         188.\n",
      "==============================================================================\n",
      "\n",
      "Warnings:\n",
      "[1] Standard Errors are heteroscedasticity robust (HC3)\n"
     ]
    }
   ],
   "source": [
    "# run model\n",
    "results = sm.OLS(data['gini_diff_0010'], data[train_cols]).fit(cov_type='HC3')\n",
    "print results.summary()"
   ]
  },
  {
   "cell_type": "code",
   "execution_count": 59,
   "metadata": {
    "collapsed": true
   },
   "outputs": [],
   "source": [
    "# create dataframe of values based on model results\n",
    "\n",
    "def cartesian(arrays, out=None):\n",
    "\n",
    "    arrays = [np.asarray(x) for x in arrays]\n",
    "    dtype = arrays[0].dtype\n",
    "\n",
    "    n = np.prod([x.size for x in arrays])\n",
    "    if out is None:\n",
    "        out = np.zeros([n, len(arrays)], dtype=dtype)\n",
    "\n",
    "    m = n / arrays[0].size\n",
    "    out[:,0] = np.repeat(arrays[0], m)\n",
    "    if arrays[1:]:\n",
    "        cartesian(arrays[1:], out=out[0:m,1:])\n",
    "        for j in xrange(1, arrays[0].size):\n",
    "            out[j*m:(j+1)*m,1:] = out[0:m,1:]\n",
    "    return out"
   ]
  },
  {
   "cell_type": "code",
   "execution_count": 60,
   "metadata": {},
   "outputs": [
    {
     "name": "stdout",
     "output_type": "stream",
     "text": [
      "[ -46.604856    -29.16527687  -11.72569773    5.7138814    23.15346054\n",
      "   40.59303967   58.03261881   75.47219794   92.91177708  110.35135621]\n"
     ]
    }
   ],
   "source": [
    "pop_chgs = np.linspace(data['ppctchg_0010'].min(), data['ppctchg_0010'].max(), 10)\n",
    "print pop_chgs"
   ]
  },
  {
   "cell_type": "code",
   "execution_count": 61,
   "metadata": {},
   "outputs": [
    {
     "data": {
      "text/plain": [
       "10.11795356265665"
      ]
     },
     "execution_count": 61,
     "metadata": {},
     "output_type": "execute_result"
    }
   ],
   "source": [
    "# take median 2000 population\n",
    "np.log(df['pop00'].median())"
   ]
  },
  {
   "cell_type": "code",
   "execution_count": 62,
   "metadata": {},
   "outputs": [
    {
     "data": {
      "text/plain": [
       "0.8934603433649365"
      ]
     },
     "execution_count": 62,
     "metadata": {},
     "output_type": "execute_result"
    }
   ],
   "source": [
    "# take median pct white in 2000\n",
    "df['pwhite_00'].median()"
   ]
  },
  {
   "cell_type": "code",
   "execution_count": 63,
   "metadata": {},
   "outputs": [
    {
     "data": {
      "text/html": [
       "<div>\n",
       "<style>\n",
       "    .dataframe thead tr:only-child th {\n",
       "        text-align: right;\n",
       "    }\n",
       "\n",
       "    .dataframe thead th {\n",
       "        text-align: left;\n",
       "    }\n",
       "\n",
       "    .dataframe tbody tr th {\n",
       "        vertical-align: top;\n",
       "    }\n",
       "</style>\n",
       "<table border=\"1\" class=\"dataframe\">\n",
       "  <thead>\n",
       "    <tr style=\"text-align: right;\">\n",
       "      <th></th>\n",
       "      <th>ppctchg_0010</th>\n",
       "      <th>pwhite_00</th>\n",
       "      <th>region</th>\n",
       "      <th>intercept</th>\n",
       "      <th>pop00_ln</th>\n",
       "    </tr>\n",
       "  </thead>\n",
       "  <tbody>\n",
       "    <tr>\n",
       "      <th>0</th>\n",
       "      <td>-46.604856</td>\n",
       "      <td>0.9</td>\n",
       "      <td>1.0</td>\n",
       "      <td>1.0</td>\n",
       "      <td>10.0</td>\n",
       "    </tr>\n",
       "    <tr>\n",
       "      <th>1</th>\n",
       "      <td>-46.604856</td>\n",
       "      <td>0.9</td>\n",
       "      <td>2.0</td>\n",
       "      <td>1.0</td>\n",
       "      <td>10.0</td>\n",
       "    </tr>\n",
       "    <tr>\n",
       "      <th>2</th>\n",
       "      <td>-46.604856</td>\n",
       "      <td>0.9</td>\n",
       "      <td>3.0</td>\n",
       "      <td>1.0</td>\n",
       "      <td>10.0</td>\n",
       "    </tr>\n",
       "    <tr>\n",
       "      <th>3</th>\n",
       "      <td>-46.604856</td>\n",
       "      <td>0.9</td>\n",
       "      <td>4.0</td>\n",
       "      <td>1.0</td>\n",
       "      <td>10.0</td>\n",
       "    </tr>\n",
       "    <tr>\n",
       "      <th>4</th>\n",
       "      <td>-29.165277</td>\n",
       "      <td>0.9</td>\n",
       "      <td>1.0</td>\n",
       "      <td>1.0</td>\n",
       "      <td>10.0</td>\n",
       "    </tr>\n",
       "  </tbody>\n",
       "</table>\n",
       "</div>"
      ],
      "text/plain": [
       "   ppctchg_0010  pwhite_00  region  intercept  pop00_ln\n",
       "0    -46.604856        0.9     1.0        1.0      10.0\n",
       "1    -46.604856        0.9     2.0        1.0      10.0\n",
       "2    -46.604856        0.9     3.0        1.0      10.0\n",
       "3    -46.604856        0.9     4.0        1.0      10.0\n",
       "4    -29.165277        0.9     1.0        1.0      10.0"
      ]
     },
     "execution_count": 63,
     "metadata": {},
     "output_type": "execute_result"
    }
   ],
   "source": [
    "# enumerate all possibilities\n",
    "combos = pd.DataFrame(cartesian([pop_chgs, [0.90], [1, 2, 3, 4], [ 1. ], [10]]))\n",
    "combos.columns = ['ppctchg_0010', 'pwhite_00', 'region', 'intercept', 'pop00_ln']\n",
    "combos.head()"
   ]
  },
  {
   "cell_type": "code",
   "execution_count": 64,
   "metadata": {},
   "outputs": [
    {
     "data": {
      "text/html": [
       "<div>\n",
       "<style>\n",
       "    .dataframe thead tr:only-child th {\n",
       "        text-align: right;\n",
       "    }\n",
       "\n",
       "    .dataframe thead th {\n",
       "        text-align: left;\n",
       "    }\n",
       "\n",
       "    .dataframe tbody tr th {\n",
       "        vertical-align: top;\n",
       "    }\n",
       "</style>\n",
       "<table border=\"1\" class=\"dataframe\">\n",
       "  <thead>\n",
       "    <tr style=\"text-align: right;\">\n",
       "      <th></th>\n",
       "      <th>ppctchg_0010</th>\n",
       "      <th>pwhite_00</th>\n",
       "      <th>region</th>\n",
       "      <th>intercept</th>\n",
       "      <th>pop00_ln</th>\n",
       "      <th>region_Northeast</th>\n",
       "      <th>region_South</th>\n",
       "      <th>region_West</th>\n",
       "    </tr>\n",
       "  </thead>\n",
       "  <tbody>\n",
       "    <tr>\n",
       "      <th>0</th>\n",
       "      <td>-46.604856</td>\n",
       "      <td>0.9</td>\n",
       "      <td>1.0</td>\n",
       "      <td>1.0</td>\n",
       "      <td>10.0</td>\n",
       "      <td>0</td>\n",
       "      <td>0</td>\n",
       "      <td>0</td>\n",
       "    </tr>\n",
       "    <tr>\n",
       "      <th>1</th>\n",
       "      <td>-46.604856</td>\n",
       "      <td>0.9</td>\n",
       "      <td>2.0</td>\n",
       "      <td>1.0</td>\n",
       "      <td>10.0</td>\n",
       "      <td>1</td>\n",
       "      <td>0</td>\n",
       "      <td>0</td>\n",
       "    </tr>\n",
       "    <tr>\n",
       "      <th>2</th>\n",
       "      <td>-46.604856</td>\n",
       "      <td>0.9</td>\n",
       "      <td>3.0</td>\n",
       "      <td>1.0</td>\n",
       "      <td>10.0</td>\n",
       "      <td>0</td>\n",
       "      <td>1</td>\n",
       "      <td>0</td>\n",
       "    </tr>\n",
       "    <tr>\n",
       "      <th>3</th>\n",
       "      <td>-46.604856</td>\n",
       "      <td>0.9</td>\n",
       "      <td>4.0</td>\n",
       "      <td>1.0</td>\n",
       "      <td>10.0</td>\n",
       "      <td>0</td>\n",
       "      <td>0</td>\n",
       "      <td>1</td>\n",
       "    </tr>\n",
       "    <tr>\n",
       "      <th>4</th>\n",
       "      <td>-29.165277</td>\n",
       "      <td>0.9</td>\n",
       "      <td>1.0</td>\n",
       "      <td>1.0</td>\n",
       "      <td>10.0</td>\n",
       "      <td>0</td>\n",
       "      <td>0</td>\n",
       "      <td>0</td>\n",
       "    </tr>\n",
       "  </tbody>\n",
       "</table>\n",
       "</div>"
      ],
      "text/plain": [
       "   ppctchg_0010  pwhite_00  region  intercept  pop00_ln  region_Northeast  \\\n",
       "0    -46.604856        0.9     1.0        1.0      10.0                 0   \n",
       "1    -46.604856        0.9     2.0        1.0      10.0                 1   \n",
       "2    -46.604856        0.9     3.0        1.0      10.0                 0   \n",
       "3    -46.604856        0.9     4.0        1.0      10.0                 0   \n",
       "4    -29.165277        0.9     1.0        1.0      10.0                 0   \n",
       "\n",
       "   region_South  region_West  \n",
       "0             0            0  \n",
       "1             0            0  \n",
       "2             1            0  \n",
       "3             0            1  \n",
       "4             0            0  "
      ]
     },
     "execution_count": 64,
     "metadata": {},
     "output_type": "execute_result"
    }
   ],
   "source": [
    "# recreate the dummy variables\n",
    "dummy_ranks = pd.get_dummies(combos['region'], prefix='region')\n",
    "dummy_ranks.columns = ['region_Midwest', 'region_Northeast', 'region_South', 'region_West']\n",
    "# keep only what we need for making predictions\n",
    "cols_to_keep = ['ppctchg_0010', 'pwhite_00', 'region', 'intercept', 'pop00_ln']\n",
    "combos = combos[cols_to_keep].join(dummy_ranks.loc[:, 'region_Northeast':])\n",
    "combos.head()"
   ]
  },
  {
   "cell_type": "code",
   "execution_count": 65,
   "metadata": {
    "collapsed": true
   },
   "outputs": [],
   "source": [
    "# make predictions on the enumerated dataset\n",
    "combos['dif_div_pred'] = results.predict(combos[train_cols])"
   ]
  },
  {
   "cell_type": "code",
   "execution_count": 66,
   "metadata": {},
   "outputs": [
    {
     "name": "stdout",
     "output_type": "stream",
     "text": [
      "                     dif_div_pred\n",
      "ppctchg_0010 region              \n",
      "-46.604856   1.0         0.014892\n",
      "             2.0         0.011155\n",
      "             3.0         0.006318\n",
      "             4.0         0.011248\n",
      "-29.165277   1.0         0.018230\n"
     ]
    }
   ],
   "source": [
    "grouped = pd.pivot_table(combos, values=['dif_div_pred'], index=['ppctchg_0010', 'region'], aggfunc=np.mean)\n",
    "print grouped.head()"
   ]
  },
  {
   "cell_type": "code",
   "execution_count": 67,
   "metadata": {},
   "outputs": [
    {
     "data": {
      "text/plain": [
       "(-0.083107436033454996, 0.099872959640491976)"
      ]
     },
     "execution_count": 67,
     "metadata": {},
     "output_type": "execute_result"
    },
    {
     "data": {
      "image/png": "[encoded data removed]",
      "text/plain": [
       "<matplotlib.figure.Figure at 0x7f6144d3d890>"
      ]
     },
     "metadata": {},
     "output_type": "display_data"
    }
   ],
   "source": [
    "fix, ax = plt.subplots(figsize=(10,6))\n",
    "colors = 'rbgyrbgy'\n",
    "for col in combos.region.unique():\n",
    "    plt_data = grouped.loc[grouped.index.get_level_values(1)==col]\n",
    "    plt.plot(plt_data.index.get_level_values(0), plt_data['dif_div_pred'], color=colors[int(col)])\n",
    "    \n",
    "plt.legend(['Midwest', 'Northeast', 'West', 'South'], loc='upper right', title='region')\n",
    "plt.xlabel('pct pop change 2000-2010')\n",
    "plt.ylabel('diff in gini 2000-2010')\n",
    "plt.title('predicted values')\n",
    "\n",
    "plt.ylim(df['gini_diff_0010'].min(), df['gini_diff_0010'].max())"
   ]
  },
  {
   "cell_type": "code",
   "execution_count": null,
   "metadata": {
    "collapsed": true
   },
   "outputs": [],
   "source": []
  }
 ],
 "metadata": {
  "kernelspec": {
   "display_name": "Python 2",
   "language": "python",
   "name": "python2"
  },
  "language_info": {
   "codemirror_mode": {
    "name": "ipython",
    "version": 2
   },
   "file_extension": ".py",
   "mimetype": "text/x-python",
   "name": "python",
   "nbconvert_exporter": "python",
   "pygments_lexer": "ipython2",
   "version": "2.7.14"
  }
 },
 "nbformat": 4,
 "nbformat_minor": 2
}
