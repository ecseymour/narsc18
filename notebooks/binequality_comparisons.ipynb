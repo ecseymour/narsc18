{
 "cells": [
  {
   "cell_type": "code",
   "execution_count": 2,
   "metadata": {
    "collapsed": true
   },
   "outputs": [],
   "source": [
    "import sqlite3 as sql\n",
    "import pandas as pd\n",
    "import numpy as np\n",
    "from matplotlib import pyplot as plt\n",
    "import seaborn as sns\n",
    "%matplotlib inline"
   ]
  },
  {
   "cell_type": "code",
   "execution_count": 9,
   "metadata": {},
   "outputs": [
    {
     "data": {
      "text/html": [
       "<div>\n",
       "<style>\n",
       "    .dataframe thead tr:only-child th {\n",
       "        text-align: right;\n",
       "    }\n",
       "\n",
       "    .dataframe thead th {\n",
       "        text-align: left;\n",
       "    }\n",
       "\n",
       "    .dataframe tbody tr th {\n",
       "        vertical-align: top;\n",
       "    }\n",
       "</style>\n",
       "<table border=\"1\" class=\"dataframe\">\n",
       "  <thead>\n",
       "    <tr style=\"text-align: right;\">\n",
       "      <th></th>\n",
       "      <th>lno_10</th>\n",
       "      <th>bf_10</th>\n",
       "    </tr>\n",
       "    <tr>\n",
       "      <th>GISJOIN</th>\n",
       "      <th></th>\n",
       "      <th></th>\n",
       "    </tr>\n",
       "  </thead>\n",
       "  <tbody>\n",
       "    <tr>\n",
       "      <th>G0100010</th>\n",
       "      <td>0.449228</td>\n",
       "      <td>0.387934</td>\n",
       "    </tr>\n",
       "    <tr>\n",
       "      <th>G0100010</th>\n",
       "      <td>0.449228</td>\n",
       "      <td>0.387934</td>\n",
       "    </tr>\n",
       "    <tr>\n",
       "      <th>G0100010</th>\n",
       "      <td>0.449228</td>\n",
       "      <td>0.387934</td>\n",
       "    </tr>\n",
       "    <tr>\n",
       "      <th>G0100010</th>\n",
       "      <td>0.449228</td>\n",
       "      <td>0.387934</td>\n",
       "    </tr>\n",
       "    <tr>\n",
       "      <th>G0100010</th>\n",
       "      <td>0.449228</td>\n",
       "      <td>0.387934</td>\n",
       "    </tr>\n",
       "  </tbody>\n",
       "</table>\n",
       "</div>"
      ],
      "text/plain": [
       "            lno_10     bf_10\n",
       "GISJOIN                     \n",
       "G0100010  0.449228  0.387934\n",
       "G0100010  0.449228  0.387934\n",
       "G0100010  0.449228  0.387934\n",
       "G0100010  0.449228  0.387934\n",
       "G0100010  0.449228  0.387934"
      ]
     },
     "execution_count": 9,
     "metadata": {},
     "output_type": "execute_result"
    }
   ],
   "source": [
    "db = \"/home/eric/Documents/franklin/narsc2018/generated_data/narsc18.sqlite\"\n",
    "con = sql.connect(db)\n",
    "qry = '''\n",
    "SELECT A.GISJOIN, A.gini_10 AS lno_10, B.gini_10 AS bf_10\n",
    "FROM county_gini AS A JOIN county_gini_bestfit AS B\n",
    "ON A.GISJOIN = B.GISJOIN\n",
    "'''\n",
    "df = pd.read_sql(qry, con, index_col='GISJOIN')\n",
    "con.close()\n",
    "df.head()"
   ]
  },
  {
   "cell_type": "code",
   "execution_count": 10,
   "metadata": {},
   "outputs": [
    {
     "data": {
      "text/plain": [
       "<matplotlib.axes._subplots.AxesSubplot at 0x7f3c80d90250>"
      ]
     },
     "execution_count": 10,
     "metadata": {},
     "output_type": "execute_result"
    },
    {
     "data": {
      "image/png": "[encoded data removed]",
      "text/plain": [
       "<matplotlib.figure.Figure at 0x7f3c8a1b9550>"
      ]
     },
     "metadata": {},
     "output_type": "display_data"
    }
   ],
   "source": [
    "df.plot.scatter('lno_10', 'bf_10')"
   ]
  },
  {
   "cell_type": "code",
   "execution_count": null,
   "metadata": {
    "collapsed": true
   },
   "outputs": [],
   "source": []
  }
 ],
 "metadata": {
  "kernelspec": {
   "display_name": "Python 2",
   "language": "python",
   "name": "python2"
  },
  "language_info": {
   "codemirror_mode": {
    "name": "ipython",
    "version": 2
   },
   "file_extension": ".py",
   "mimetype": "text/x-python",
   "name": "python",
   "nbconvert_exporter": "python",
   "pygments_lexer": "ipython2",
   "version": "2.7.14"
  }
 },
 "nbformat": 4,
 "nbformat_minor": 2
}
