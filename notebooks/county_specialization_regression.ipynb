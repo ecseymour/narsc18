{
 "cells": [
  {
   "cell_type": "markdown",
   "metadata": {},
   "source": [
    "# regression analysis of change in specialization on change in population\n",
    "\n",
    "Data has been trimmed to remove AK, HI, and DC"
   ]
  },
  {
   "cell_type": "code",
   "execution_count": 1,
   "metadata": {},
   "outputs": [
    {
     "name": "stderr",
     "output_type": "stream",
     "text": [
      "/home/eric/anaconda2/envs/geo/lib/python2.7/site-packages/statsmodels/compat/pandas.py:56: FutureWarning: The pandas.core.datetools module is deprecated and will be removed in a future version. Please use the pandas.tseries module instead.\n",
      "  from pandas.core import datetools\n"
     ]
    }
   ],
   "source": [
    "from pysqlite2 import dbapi2 as sql\n",
    "import pandas as pd\n",
    "import numpy as np\n",
    "from matplotlib import pyplot as plt\n",
    "import seaborn as sns\n",
    "%matplotlib inline\n",
    "sns.set(style=\"darkgrid\")\n",
    "\n",
    "import statsmodels.api as sm\n",
    "import statsmodels.formula.api as smf"
   ]
  },
  {
   "cell_type": "code",
   "execution_count": 2,
   "metadata": {},
   "outputs": [
    {
     "name": "stdout",
     "output_type": "stream",
     "text": [
      "3108\n"
     ]
    },
    {
     "data": {
      "text/html": [
       "<div>\n",
       "<style>\n",
       "    .dataframe thead tr:only-child th {\n",
       "        text-align: right;\n",
       "    }\n",
       "\n",
       "    .dataframe thead th {\n",
       "        text-align: left;\n",
       "    }\n",
       "\n",
       "    .dataframe tbody tr th {\n",
       "        vertical-align: top;\n",
       "    }\n",
       "</style>\n",
       "<table border=\"1\" class=\"dataframe\">\n",
       "  <thead>\n",
       "    <tr style=\"text-align: right;\">\n",
       "      <th></th>\n",
       "      <th>STATE</th>\n",
       "      <th>pop90</th>\n",
       "      <th>pop00</th>\n",
       "      <th>pop10</th>\n",
       "      <th>Sus_10</th>\n",
       "      <th>Sstate_10</th>\n",
       "      <th>Sus_00</th>\n",
       "      <th>Sstate_00</th>\n",
       "      <th>Sus_90</th>\n",
       "      <th>Sstate_90</th>\n",
       "      <th>pwhite_10</th>\n",
       "      <th>pwhite_00</th>\n",
       "      <th>pwhite_90</th>\n",
       "      <th>diversity_4grp_10</th>\n",
       "      <th>diversity_4grp_00</th>\n",
       "      <th>diversity_4grp_90</th>\n",
       "    </tr>\n",
       "    <tr>\n",
       "      <th>GISJOIN</th>\n",
       "      <th></th>\n",
       "      <th></th>\n",
       "      <th></th>\n",
       "      <th></th>\n",
       "      <th></th>\n",
       "      <th></th>\n",
       "      <th></th>\n",
       "      <th></th>\n",
       "      <th></th>\n",
       "      <th></th>\n",
       "      <th></th>\n",
       "      <th></th>\n",
       "      <th></th>\n",
       "      <th></th>\n",
       "      <th></th>\n",
       "      <th></th>\n",
       "    </tr>\n",
       "  </thead>\n",
       "  <tbody>\n",
       "    <tr>\n",
       "      <th>G0100010</th>\n",
       "      <td>Alabama</td>\n",
       "      <td>34223.68</td>\n",
       "      <td>43672.90</td>\n",
       "      <td>54571</td>\n",
       "      <td>0.186423</td>\n",
       "      <td>0.102048</td>\n",
       "      <td>0.152970</td>\n",
       "      <td>0.094484</td>\n",
       "      <td>0.111368</td>\n",
       "      <td>0.056898</td>\n",
       "      <td>0.772462</td>\n",
       "      <td>0.797373</td>\n",
       "      <td>0.788881</td>\n",
       "      <td>0.693947</td>\n",
       "      <td>0.615486</td>\n",
       "      <td>0.570610</td>\n",
       "    </tr>\n",
       "    <tr>\n",
       "      <th>G0100030</th>\n",
       "      <td>Alabama</td>\n",
       "      <td>98280.00</td>\n",
       "      <td>140415.00</td>\n",
       "      <td>182265</td>\n",
       "      <td>0.195190</td>\n",
       "      <td>0.170976</td>\n",
       "      <td>0.166580</td>\n",
       "      <td>0.159527</td>\n",
       "      <td>0.104402</td>\n",
       "      <td>0.126802</td>\n",
       "      <td>0.835048</td>\n",
       "      <td>0.860791</td>\n",
       "      <td>0.852666</td>\n",
       "      <td>0.608817</td>\n",
       "      <td>0.509665</td>\n",
       "      <td>0.488343</td>\n",
       "    </tr>\n",
       "    <tr>\n",
       "      <th>G0100050</th>\n",
       "      <td>Alabama</td>\n",
       "      <td>25417.62</td>\n",
       "      <td>29038.85</td>\n",
       "      <td>27457</td>\n",
       "      <td>0.344905</td>\n",
       "      <td>0.218239</td>\n",
       "      <td>0.340102</td>\n",
       "      <td>0.201792</td>\n",
       "      <td>0.322170</td>\n",
       "      <td>0.187051</td>\n",
       "      <td>0.467531</td>\n",
       "      <td>0.509257</td>\n",
       "      <td>0.552933</td>\n",
       "      <td>0.925007</td>\n",
       "      <td>0.827723</td>\n",
       "      <td>0.733707</td>\n",
       "    </tr>\n",
       "    <tr>\n",
       "      <th>G0100070</th>\n",
       "      <td>Alabama</td>\n",
       "      <td>16610.89</td>\n",
       "      <td>20826.41</td>\n",
       "      <td>22915</td>\n",
       "      <td>0.207588</td>\n",
       "      <td>0.079793</td>\n",
       "      <td>0.167624</td>\n",
       "      <td>0.059143</td>\n",
       "      <td>0.119096</td>\n",
       "      <td>0.053672</td>\n",
       "      <td>0.750207</td>\n",
       "      <td>0.762032</td>\n",
       "      <td>0.786280</td>\n",
       "      <td>0.675678</td>\n",
       "      <td>0.624386</td>\n",
       "      <td>0.543856</td>\n",
       "    </tr>\n",
       "    <tr>\n",
       "      <th>G0100090</th>\n",
       "      <td>Alabama</td>\n",
       "      <td>39251.65</td>\n",
       "      <td>51028.61</td>\n",
       "      <td>57322</td>\n",
       "      <td>0.249015</td>\n",
       "      <td>0.260330</td>\n",
       "      <td>0.226906</td>\n",
       "      <td>0.254440</td>\n",
       "      <td>0.215574</td>\n",
       "      <td>0.243790</td>\n",
       "      <td>0.888873</td>\n",
       "      <td>0.921117</td>\n",
       "      <td>0.975208</td>\n",
       "      <td>0.434742</td>\n",
       "      <td>0.343426</td>\n",
       "      <td>0.140900</td>\n",
       "    </tr>\n",
       "  </tbody>\n",
       "</table>\n",
       "</div>"
      ],
      "text/plain": [
       "            STATE     pop90      pop00   pop10    Sus_10  Sstate_10    Sus_00  \\\n",
       "GISJOIN                                                                         \n",
       "G0100010  Alabama  34223.68   43672.90   54571  0.186423   0.102048  0.152970   \n",
       "G0100030  Alabama  98280.00  140415.00  182265  0.195190   0.170976  0.166580   \n",
       "G0100050  Alabama  25417.62   29038.85   27457  0.344905   0.218239  0.340102   \n",
       "G0100070  Alabama  16610.89   20826.41   22915  0.207588   0.079793  0.167624   \n",
       "G0100090  Alabama  39251.65   51028.61   57322  0.249015   0.260330  0.226906   \n",
       "\n",
       "          Sstate_00    Sus_90  Sstate_90  pwhite_10  pwhite_00  pwhite_90  \\\n",
       "GISJOIN                                                                     \n",
       "G0100010   0.094484  0.111368   0.056898   0.772462   0.797373   0.788881   \n",
       "G0100030   0.159527  0.104402   0.126802   0.835048   0.860791   0.852666   \n",
       "G0100050   0.201792  0.322170   0.187051   0.467531   0.509257   0.552933   \n",
       "G0100070   0.059143  0.119096   0.053672   0.750207   0.762032   0.786280   \n",
       "G0100090   0.254440  0.215574   0.243790   0.888873   0.921117   0.975208   \n",
       "\n",
       "          diversity_4grp_10  diversity_4grp_00  diversity_4grp_90  \n",
       "GISJOIN                                                            \n",
       "G0100010           0.693947           0.615486           0.570610  \n",
       "G0100030           0.608817           0.509665           0.488343  \n",
       "G0100050           0.925007           0.827723           0.733707  \n",
       "G0100070           0.675678           0.624386           0.543856  \n",
       "G0100090           0.434742           0.343426           0.140900  "
      ]
     },
     "execution_count": 2,
     "metadata": {},
     "output_type": "execute_result"
    }
   ],
   "source": [
    "# load data\n",
    "db = \"/home/eric/Documents/franklin/narsc2018/generated_data/narsc18.sqlite\"\n",
    "con = sql.connect(db)\n",
    "con.enable_load_extension(True)\n",
    "con.execute(\"SELECT load_extension('mod_spatialite');\")\n",
    "\n",
    "qry = '''\n",
    "SELECT\n",
    "A.STATE,\n",
    "A.CL8AA1990 AS pop90,\n",
    "A.CL8AA2000 AS pop00,\n",
    "A.CL8AA2010 AS pop10,\n",
    "B.*,\n",
    "C.pwhite_10,\n",
    "C.pwhite_00,\n",
    "C.pwhite_90,\n",
    "C.diversity_4grp_10,\n",
    "C.diversity_4grp_00,\n",
    "C.diversity_4grp_90\n",
    "FROM nhgis_pop_race_norm_90_10 AS A\n",
    "JOIN county_specialization AS B\n",
    "    ON A.GISJOIN = B.GISJOIN\n",
    "JOIN county_diversity AS C\n",
    "    ON A.GISJOIN = C.GISJOIN\n",
    ";\n",
    "'''\n",
    "\n",
    "df = pd.read_sql(qry, con, index_col='GISJOIN')\n",
    "con.close()\n",
    "print len(df)\n",
    "df.head()"
   ]
  },
  {
   "cell_type": "code",
   "execution_count": 3,
   "metadata": {},
   "outputs": [
    {
     "name": "stdout",
     "output_type": "stream",
     "text": [
      "             region\n",
      "gisjoin            \n",
      "G3400170  Northeast\n",
      "G3400110  Northeast\n",
      "G2300190  Northeast\n",
      "G5000090  Northeast\n",
      "G5000110  Northeast\n",
      "3105\n"
     ]
    }
   ],
   "source": [
    "# merge with census regions\n",
    "db = \"/home/eric/Documents/franklin/narsc2018/generated_data/narsc18.sqlite\"\n",
    "con = sql.connect(db)\n",
    "con.enable_load_extension(True)\n",
    "con.execute(\"SELECT load_extension('mod_spatialite');\")\n",
    "\n",
    "qry = '''\n",
    "SELECT A.gisjoin, B.name AS region\n",
    "FROM us_county_2010 AS A, census_regions_10 AS B\n",
    "WHERE ST_Contains(B.geometry, ST_Centroid(A.geometry))\n",
    "AND A.ROWID IN (SELECT ROWID FROM SpatialIndex\n",
    "    WHERE f_table_name = 'us_county_2010' AND search_frame = B.geometry )\n",
    ";\n",
    "'''\n",
    "\n",
    "df2 = pd.read_sql(qry, con, index_col='gisjoin')\n",
    "print df2.head()\n",
    "con.close()\n",
    "df = pd.merge(df, df2, left_index=True, right_index=True)\n",
    "print len(df)"
   ]
  },
  {
   "cell_type": "markdown",
   "metadata": {},
   "source": [
    "**lost 3 counties with spatial join to regions**"
   ]
  },
  {
   "cell_type": "code",
   "execution_count": 4,
   "metadata": {},
   "outputs": [
    {
     "data": {
      "text/html": [
       "<div>\n",
       "<style>\n",
       "    .dataframe thead tr:only-child th {\n",
       "        text-align: right;\n",
       "    }\n",
       "\n",
       "    .dataframe thead th {\n",
       "        text-align: left;\n",
       "    }\n",
       "\n",
       "    .dataframe tbody tr th {\n",
       "        vertical-align: top;\n",
       "    }\n",
       "</style>\n",
       "<table border=\"1\" class=\"dataframe\">\n",
       "  <thead>\n",
       "    <tr style=\"text-align: right;\">\n",
       "      <th>growth_cat</th>\n",
       "      <th>growing</th>\n",
       "      <th>shrinking</th>\n",
       "      <th>stable</th>\n",
       "      <th>All</th>\n",
       "    </tr>\n",
       "    <tr>\n",
       "      <th>growth_cat_90s</th>\n",
       "      <th></th>\n",
       "      <th></th>\n",
       "      <th></th>\n",
       "      <th></th>\n",
       "    </tr>\n",
       "  </thead>\n",
       "  <tbody>\n",
       "    <tr>\n",
       "      <th>growing</th>\n",
       "      <td>1183</td>\n",
       "      <td>287</td>\n",
       "      <td>454</td>\n",
       "      <td>1924</td>\n",
       "    </tr>\n",
       "    <tr>\n",
       "      <th>shrinking</th>\n",
       "      <td>46</td>\n",
       "      <td>529</td>\n",
       "      <td>99</td>\n",
       "      <td>674</td>\n",
       "    </tr>\n",
       "    <tr>\n",
       "      <th>stable</th>\n",
       "      <td>55</td>\n",
       "      <td>269</td>\n",
       "      <td>183</td>\n",
       "      <td>507</td>\n",
       "    </tr>\n",
       "    <tr>\n",
       "      <th>All</th>\n",
       "      <td>1284</td>\n",
       "      <td>1085</td>\n",
       "      <td>736</td>\n",
       "      <td>3105</td>\n",
       "    </tr>\n",
       "  </tbody>\n",
       "</table>\n",
       "</div>"
      ],
      "text/plain": [
       "growth_cat      growing  shrinking  stable   All\n",
       "growth_cat_90s                                  \n",
       "growing            1183        287     454  1924\n",
       "shrinking            46        529      99   674\n",
       "stable               55        269     183   507\n",
       "All                1284       1085     736  3105"
      ]
     },
     "execution_count": 4,
     "metadata": {},
     "output_type": "execute_result"
    }
   ],
   "source": [
    "# create categories for pop change 2000 to 2010\n",
    "# calc pop change in each decade\n",
    "df['ppctchg_0010'] = ( df['pop10'] - df['pop00'] ) * 1.0 / df['pop00'] * 100\n",
    "df['ppctchg_9000'] = ( df['pop00'] - df['pop90'] ) * 1.0 / df['pop90'] * 100\n",
    "# growth categories 2000-2010\n",
    "df['growth_cat'] = 0\n",
    "df.loc[df['ppctchg_0010'] >= 5, 'growth_cat'] = 'growing'\n",
    "df.loc[(df['ppctchg_0010'] < 5) & (df['ppctchg_0010'] >= 0 ), 'growth_cat'] = 'stable'\n",
    "df.loc[df['ppctchg_0010'] < 0, 'growth_cat'] = 'shrinking'\n",
    "# growth categories 1990-2000\n",
    "df['growth_cat_90s'] = 0\n",
    "df.loc[df['ppctchg_9000'] >= 5, 'growth_cat_90s'] = 'growing'\n",
    "df.loc[(df['ppctchg_9000'] < 5) & (df['ppctchg_9000'] >= 0 ), 'growth_cat_90s'] = 'stable'\n",
    "df.loc[df['ppctchg_9000'] < 0, 'growth_cat_90s'] = 'shrinking'\n",
    "# xtab counties between 1990s and 2000s in terms of pop change category\n",
    "pd.crosstab(df['growth_cat_90s'], df['growth_cat'], margins=True)"
   ]
  },
  {
   "cell_type": "code",
   "execution_count": 5,
   "metadata": {},
   "outputs": [
    {
     "data": {
      "text/html": [
       "<div>\n",
       "<style>\n",
       "    .dataframe thead tr:only-child th {\n",
       "        text-align: right;\n",
       "    }\n",
       "\n",
       "    .dataframe thead th {\n",
       "        text-align: left;\n",
       "    }\n",
       "\n",
       "    .dataframe tbody tr th {\n",
       "        vertical-align: top;\n",
       "    }\n",
       "</style>\n",
       "<table border=\"1\" class=\"dataframe\">\n",
       "  <thead>\n",
       "    <tr style=\"text-align: right;\">\n",
       "      <th></th>\n",
       "      <th>STATE</th>\n",
       "      <th>pop90</th>\n",
       "      <th>pop00</th>\n",
       "      <th>pop10</th>\n",
       "      <th>Sus_10</th>\n",
       "      <th>Sstate_10</th>\n",
       "      <th>Sus_00</th>\n",
       "      <th>Sstate_00</th>\n",
       "      <th>Sus_90</th>\n",
       "      <th>Sstate_90</th>\n",
       "      <th>...</th>\n",
       "      <th>diversity_4grp_90</th>\n",
       "      <th>region</th>\n",
       "      <th>ppctchg_0010</th>\n",
       "      <th>ppctchg_9000</th>\n",
       "      <th>growth_cat</th>\n",
       "      <th>growth_cat_90s</th>\n",
       "      <th>S_us_diff_9000</th>\n",
       "      <th>S_state_diff_9000</th>\n",
       "      <th>S_us_diff_0010</th>\n",
       "      <th>S_state_diff_0010</th>\n",
       "    </tr>\n",
       "  </thead>\n",
       "  <tbody>\n",
       "    <tr>\n",
       "      <th>G0100010</th>\n",
       "      <td>Alabama</td>\n",
       "      <td>34223.68</td>\n",
       "      <td>43672.90</td>\n",
       "      <td>54571</td>\n",
       "      <td>0.186423</td>\n",
       "      <td>0.102048</td>\n",
       "      <td>0.152970</td>\n",
       "      <td>0.094484</td>\n",
       "      <td>0.111368</td>\n",
       "      <td>0.056898</td>\n",
       "      <td>...</td>\n",
       "      <td>0.570610</td>\n",
       "      <td>South</td>\n",
       "      <td>24.953919</td>\n",
       "      <td>27.610181</td>\n",
       "      <td>growing</td>\n",
       "      <td>growing</td>\n",
       "      <td>0.041602</td>\n",
       "      <td>0.037586</td>\n",
       "      <td>0.033453</td>\n",
       "      <td>0.007564</td>\n",
       "    </tr>\n",
       "    <tr>\n",
       "      <th>G0100030</th>\n",
       "      <td>Alabama</td>\n",
       "      <td>98280.00</td>\n",
       "      <td>140415.00</td>\n",
       "      <td>182265</td>\n",
       "      <td>0.195190</td>\n",
       "      <td>0.170976</td>\n",
       "      <td>0.166580</td>\n",
       "      <td>0.159527</td>\n",
       "      <td>0.104402</td>\n",
       "      <td>0.126802</td>\n",
       "      <td>...</td>\n",
       "      <td>0.488343</td>\n",
       "      <td>South</td>\n",
       "      <td>29.804508</td>\n",
       "      <td>42.872405</td>\n",
       "      <td>growing</td>\n",
       "      <td>growing</td>\n",
       "      <td>0.062179</td>\n",
       "      <td>0.032725</td>\n",
       "      <td>0.028610</td>\n",
       "      <td>0.011449</td>\n",
       "    </tr>\n",
       "    <tr>\n",
       "      <th>G0100050</th>\n",
       "      <td>Alabama</td>\n",
       "      <td>25417.62</td>\n",
       "      <td>29038.85</td>\n",
       "      <td>27457</td>\n",
       "      <td>0.344905</td>\n",
       "      <td>0.218239</td>\n",
       "      <td>0.340102</td>\n",
       "      <td>0.201792</td>\n",
       "      <td>0.322170</td>\n",
       "      <td>0.187051</td>\n",
       "      <td>...</td>\n",
       "      <td>0.733707</td>\n",
       "      <td>South</td>\n",
       "      <td>-5.447358</td>\n",
       "      <td>14.246928</td>\n",
       "      <td>shrinking</td>\n",
       "      <td>growing</td>\n",
       "      <td>0.017932</td>\n",
       "      <td>0.014741</td>\n",
       "      <td>0.004804</td>\n",
       "      <td>0.016447</td>\n",
       "    </tr>\n",
       "    <tr>\n",
       "      <th>G0100070</th>\n",
       "      <td>Alabama</td>\n",
       "      <td>16610.89</td>\n",
       "      <td>20826.41</td>\n",
       "      <td>22915</td>\n",
       "      <td>0.207588</td>\n",
       "      <td>0.079793</td>\n",
       "      <td>0.167624</td>\n",
       "      <td>0.059143</td>\n",
       "      <td>0.119096</td>\n",
       "      <td>0.053672</td>\n",
       "      <td>...</td>\n",
       "      <td>0.543856</td>\n",
       "      <td>South</td>\n",
       "      <td>10.028565</td>\n",
       "      <td>25.378050</td>\n",
       "      <td>growing</td>\n",
       "      <td>growing</td>\n",
       "      <td>0.048528</td>\n",
       "      <td>0.005471</td>\n",
       "      <td>0.039964</td>\n",
       "      <td>0.020650</td>\n",
       "    </tr>\n",
       "    <tr>\n",
       "      <th>G0100090</th>\n",
       "      <td>Alabama</td>\n",
       "      <td>39251.65</td>\n",
       "      <td>51028.61</td>\n",
       "      <td>57322</td>\n",
       "      <td>0.249015</td>\n",
       "      <td>0.260330</td>\n",
       "      <td>0.226906</td>\n",
       "      <td>0.254440</td>\n",
       "      <td>0.215574</td>\n",
       "      <td>0.243790</td>\n",
       "      <td>...</td>\n",
       "      <td>0.140900</td>\n",
       "      <td>South</td>\n",
       "      <td>12.333062</td>\n",
       "      <td>30.003732</td>\n",
       "      <td>growing</td>\n",
       "      <td>growing</td>\n",
       "      <td>0.011333</td>\n",
       "      <td>0.010650</td>\n",
       "      <td>0.022109</td>\n",
       "      <td>0.005890</td>\n",
       "    </tr>\n",
       "  </tbody>\n",
       "</table>\n",
       "<p>5 rows × 25 columns</p>\n",
       "</div>"
      ],
      "text/plain": [
       "            STATE     pop90      pop00   pop10    Sus_10  Sstate_10    Sus_00  \\\n",
       "G0100010  Alabama  34223.68   43672.90   54571  0.186423   0.102048  0.152970   \n",
       "G0100030  Alabama  98280.00  140415.00  182265  0.195190   0.170976  0.166580   \n",
       "G0100050  Alabama  25417.62   29038.85   27457  0.344905   0.218239  0.340102   \n",
       "G0100070  Alabama  16610.89   20826.41   22915  0.207588   0.079793  0.167624   \n",
       "G0100090  Alabama  39251.65   51028.61   57322  0.249015   0.260330  0.226906   \n",
       "\n",
       "          Sstate_00    Sus_90  Sstate_90        ...         diversity_4grp_90  \\\n",
       "G0100010   0.094484  0.111368   0.056898        ...                  0.570610   \n",
       "G0100030   0.159527  0.104402   0.126802        ...                  0.488343   \n",
       "G0100050   0.201792  0.322170   0.187051        ...                  0.733707   \n",
       "G0100070   0.059143  0.119096   0.053672        ...                  0.543856   \n",
       "G0100090   0.254440  0.215574   0.243790        ...                  0.140900   \n",
       "\n",
       "          region  ppctchg_0010  ppctchg_9000  growth_cat  growth_cat_90s  \\\n",
       "G0100010   South     24.953919     27.610181     growing         growing   \n",
       "G0100030   South     29.804508     42.872405     growing         growing   \n",
       "G0100050   South     -5.447358     14.246928   shrinking         growing   \n",
       "G0100070   South     10.028565     25.378050     growing         growing   \n",
       "G0100090   South     12.333062     30.003732     growing         growing   \n",
       "\n",
       "         S_us_diff_9000  S_state_diff_9000  S_us_diff_0010 S_state_diff_0010  \n",
       "G0100010       0.041602           0.037586        0.033453          0.007564  \n",
       "G0100030       0.062179           0.032725        0.028610          0.011449  \n",
       "G0100050       0.017932           0.014741        0.004804          0.016447  \n",
       "G0100070       0.048528           0.005471        0.039964          0.020650  \n",
       "G0100090       0.011333           0.010650        0.022109          0.005890  \n",
       "\n",
       "[5 rows x 25 columns]"
      ]
     },
     "execution_count": 5,
     "metadata": {},
     "output_type": "execute_result"
    }
   ],
   "source": [
    "# add vars for change in specialization\n",
    "periods = [ ['90', '00'], ['00', '10'] ]\n",
    "benchmarks = ['us', 'state']\n",
    "\n",
    "for p in periods:\n",
    "    start = p[0]\n",
    "    end = p[1]\n",
    "    for b in benchmarks:\n",
    "        df['S_{}_diff_{}{}'.format(b,start,end)] = df['S{}_{}'.format(b, end)] - df['S{}_{}'.format(b, start)]\n",
    "        \n",
    "df.head()"
   ]
  },
  {
   "cell_type": "code",
   "execution_count": 6,
   "metadata": {},
   "outputs": [
    {
     "data": {
      "text/plain": [
       "<seaborn.axisgrid.JointGrid at 0x7fbbc8bf79d0>"
      ]
     },
     "execution_count": 6,
     "metadata": {},
     "output_type": "execute_result"
    },
    {
     "data": {
      "image/png": "[encoded data removed]",
      "text/plain": [
       "<matplotlib.figure.Figure at 0x7fbbf81c03d0>"
      ]
     },
     "metadata": {},
     "output_type": "display_data"
    }
   ],
   "source": [
    "# plot pct pop change and specialization difference 2000-2010\n",
    "sns.jointplot('ppctchg_0010', 'S_us_diff_0010', df, kind='reg')"
   ]
  },
  {
   "cell_type": "code",
   "execution_count": 7,
   "metadata": {},
   "outputs": [
    {
     "data": {
      "text/plain": [
       "<seaborn.axisgrid.JointGrid at 0x7fbbc5cbce10>"
      ]
     },
     "execution_count": 7,
     "metadata": {},
     "output_type": "execute_result"
    },
    {
     "data": {
      "image/png": "[encoded data removed]",
      "text/plain": [
       "<matplotlib.figure.Figure at 0x7fbbc5cbc790>"
      ]
     },
     "metadata": {},
     "output_type": "display_data"
    }
   ],
   "source": [
    "# look at 1990-2000\n",
    "sns.jointplot('ppctchg_9000', 'S_us_diff_9000', df, kind='reg')"
   ]
  },
  {
   "cell_type": "code",
   "execution_count": 8,
   "metadata": {},
   "outputs": [
    {
     "data": {
      "text/plain": [
       "Text(0.5,1,u'2000-2010')"
      ]
     },
     "execution_count": 8,
     "metadata": {},
     "output_type": "execute_result"
    },
    {
     "data": {
      "image/png": "[encoded data removed]",
      "text/plain": [
       "<matplotlib.figure.Figure at 0x7fbbc554ac50>"
      ]
     },
     "metadata": {},
     "output_type": "display_data"
    }
   ],
   "source": [
    "# plot change in median specialization across periods\n",
    "# note that some counties in are in diff growth_cat in each period\n",
    "fig, ((ax1, ax2)) = plt.subplots(nrows=1, ncols=2, sharey=True, figsize=(10,6))\n",
    "cols1 = ['Sus_90', 'Sus_00']\n",
    "cols2 = ['Sus_00', 'Sus_10']\n",
    "df.groupby('growth_cat_90s')[cols1].median().transpose().plot(ax=ax1)\n",
    "df.groupby('growth_cat')[cols2].median().transpose().plot(ax=ax2)\n",
    "ax1.set_title('1990-2000')\n",
    "ax2.set_title('2000-2010')"
   ]
  },
  {
   "cell_type": "code",
   "execution_count": 9,
   "metadata": {},
   "outputs": [
    {
     "name": "stdout",
     "output_type": "stream",
     "text": [
      "                            OLS Regression Results                            \n",
      "==============================================================================\n",
      "Dep. Variable:         S_us_diff_0010   R-squared:                       0.039\n",
      "Model:                            OLS   Adj. R-squared:                  0.038\n",
      "Method:                 Least Squares   F-statistic:                     59.95\n",
      "Date:                Tue, 16 Oct 2018   Prob (F-statistic):           1.31e-14\n",
      "Time:                        22:19:26   Log-Likelihood:                 6880.0\n",
      "No. Observations:                3105   AIC:                        -1.376e+04\n",
      "Df Residuals:                    3103   BIC:                        -1.374e+04\n",
      "Df Model:                           1                                         \n",
      "Covariance Type:                  HC3                                         \n",
      "================================================================================\n",
      "                   coef    std err          z      P>|z|      [0.025      0.975]\n",
      "--------------------------------------------------------------------------------\n",
      "Intercept        0.0266      0.001     52.504      0.000       0.026       0.028\n",
      "ppctchg_0010    -0.0004    5.2e-05     -7.743      0.000      -0.001      -0.000\n",
      "==============================================================================\n",
      "Omnibus:                      397.049   Durbin-Watson:                   1.702\n",
      "Prob(Omnibus):                  0.000   Jarque-Bera (JB):             3051.204\n",
      "Skew:                          -0.349   Prob(JB):                         0.00\n",
      "Kurtosis:                       7.806   Cond. No.                         15.3\n",
      "==============================================================================\n",
      "\n",
      "Warnings:\n",
      "[1] Standard Errors are heteroscedasticity robust (HC3)\n"
     ]
    }
   ],
   "source": [
    "# regress change in specialization (t2 - t1)  on pop change\n",
    "m = 'S_us_diff_0010 ~ ppctchg_0010'\n",
    "results = smf.ols(m, data=df).fit(cov_type='HC3')\n",
    "print results.summary()"
   ]
  },
  {
   "cell_type": "markdown",
   "metadata": {},
   "source": [
    "baseline bivariate model indicates that an increase in population is related to a decline in specialization. the magnitude of the relationship is quite small. a 10% increase in population is associated with a -0.004 decline in specialization. the range of values for this variable are quite small though. this model does not tell us about population loss, only the degree to which more or less change in population is associated with changes in specialization."
   ]
  },
  {
   "cell_type": "code",
   "execution_count": 10,
   "metadata": {},
   "outputs": [
    {
     "data": {
      "text/plain": [
       "count    3105.000000\n",
       "mean        0.024504\n",
       "std         0.026922\n",
       "min        -0.114638\n",
       "25%         0.009887\n",
       "50%         0.029987\n",
       "75%         0.042682\n",
       "max         0.242465\n",
       "Name: S_us_diff_0010, dtype: float64"
      ]
     },
     "execution_count": 10,
     "metadata": {},
     "output_type": "execute_result"
    }
   ],
   "source": [
    "df['S_us_diff_0010'].describe()"
   ]
  },
  {
   "cell_type": "code",
   "execution_count": 11,
   "metadata": {
    "scrolled": true
   },
   "outputs": [
    {
     "name": "stdout",
     "output_type": "stream",
     "text": [
      "                            OLS Regression Results                            \n",
      "==============================================================================\n",
      "Dep. Variable:         S_us_diff_0010   R-squared:                       0.264\n",
      "Model:                            OLS   Adj. R-squared:                  0.252\n",
      "Method:                 Least Squares   F-statistic:                     21.37\n",
      "Date:                Tue, 16 Oct 2018   Prob (F-statistic):          5.30e-169\n",
      "Time:                        22:19:26   Log-Likelihood:                 7294.2\n",
      "No. Observations:                3105   AIC:                        -1.448e+04\n",
      "Df Residuals:                    3053   BIC:                        -1.417e+04\n",
      "Df Model:                          51                                         \n",
      "Covariance Type:                  HC3                                         \n",
      "===========================================================================================\n",
      "                              coef    std err          z      P>|z|      [0.025      0.975]\n",
      "-------------------------------------------------------------------------------------------\n",
      "Intercept                   0.0274      0.776      0.035      0.972      -1.494       1.549\n",
      "STATE[T.Arizona]           -0.0150      0.065     -0.230      0.818      -0.142       0.113\n",
      "STATE[T.Arkansas]          -0.0011      0.004     -0.310      0.756      -0.008       0.006\n",
      "STATE[T.California]         0.0153      0.065      0.237      0.813      -0.112       0.142\n",
      "STATE[T.Colorado]          -0.0125      0.065     -0.193      0.847      -0.139       0.114\n",
      "STATE[T.Connecticut]       -0.0171      0.078     -0.220      0.826      -0.170       0.135\n",
      "STATE[T.Delaware]           0.0002      0.009      0.027      0.979      -0.017       0.017\n",
      "STATE[T.Florida]            0.0010      0.005      0.212      0.832      -0.008       0.010\n",
      "STATE[T.Georgia]           -0.0021      0.004     -0.492      0.623      -0.010       0.006\n",
      "STATE[T.Idaho]              0.0024      0.065      0.038      0.970      -0.124       0.129\n",
      "STATE[T.Illinois]          -0.0277      0.776     -0.036      0.972      -1.549       1.494\n",
      "STATE[T.Indiana]           -0.0255      0.776     -0.033      0.974      -1.547       1.496\n",
      "STATE[T.Iowa]              -0.0308      0.776     -0.040      0.968      -1.552       1.491\n",
      "STATE[T.Kansas]            -0.0305      0.776     -0.039      0.969      -1.552       1.491\n",
      "STATE[T.Kentucky]           0.0087      0.003      2.876      0.004       0.003       0.015\n",
      "STATE[T.Louisiana]          0.0003      0.004      0.070      0.944      -0.008       0.008\n",
      "STATE[T.Maine]              0.0073      0.078      0.094      0.925      -0.145       0.160\n",
      "STATE[T.Maryland]           0.0018      0.008      0.213      0.831      -0.014       0.018\n",
      "STATE[T.Massachusetts]     -0.0137      0.078     -0.177      0.860      -0.166       0.139\n",
      "STATE[T.Michigan]          -0.0163      0.776     -0.021      0.983      -1.538       1.505\n",
      "STATE[T.Minnesota]         -0.0279      0.776     -0.036      0.971      -1.549       1.494\n",
      "STATE[T.Mississippi]        0.0065      0.004      1.789      0.074      -0.001       0.014\n",
      "STATE[T.Missouri]          -0.0188      0.776     -0.024      0.981      -1.540       1.503\n",
      "STATE[T.Montana]            0.0109      0.065      0.168      0.867      -0.116       0.138\n",
      "STATE[T.Nebraska]          -0.0291      0.776     -0.038      0.970      -1.551       1.492\n",
      "STATE[T.Nevada]            -0.0024      0.065     -0.037      0.970      -0.130       0.125\n",
      "STATE[T.New Hampshire]      0.0032      0.078      0.041      0.967      -0.149       0.155\n",
      "STATE[T.New Jersey]        -0.0020      0.078     -0.026      0.980      -0.154       0.150\n",
      "STATE[T.New Mexico]        -0.0166      0.065     -0.256      0.798      -0.144       0.111\n",
      "STATE[T.New York]          -0.0020      0.078     -0.026      0.979      -0.154       0.150\n",
      "STATE[T.North Carolina]    -0.0084      0.003     -2.534      0.011      -0.015      -0.002\n",
      "STATE[T.North Dakota]      -0.0227      0.776     -0.029      0.977      -1.544       1.499\n",
      "STATE[T.Ohio]              -0.0168      0.776     -0.022      0.983      -1.538       1.505\n",
      "STATE[T.Oklahoma]           0.0020      0.004      0.545      0.586      -0.005       0.009\n",
      "STATE[T.Oregon]            -0.0048      0.065     -0.074      0.941      -0.132       0.122\n",
      "STATE[T.Pennsylvania]      -0.0049      0.078     -0.063      0.950      -0.157       0.147\n",
      "STATE[T.Rhode Island]      -0.0045      0.078     -0.057      0.954      -0.157       0.149\n",
      "STATE[T.South Carolina]    -0.0143      0.005     -3.150      0.002      -0.023      -0.005\n",
      "STATE[T.South Dakota]      -0.0188      0.776     -0.024      0.981      -1.540       1.503\n",
      "STATE[T.Tennessee]          0.0065      0.003      2.137      0.033       0.001       0.012\n",
      "STATE[T.Texas]             -0.0025      0.003     -0.806      0.420      -0.009       0.004\n",
      "STATE[T.Utah]              -0.0059      0.065     -0.091      0.928      -0.133       0.121\n",
      "STATE[T.Vermont]            0.0077      0.078      0.099      0.922      -0.145       0.160\n",
      "STATE[T.Virginia]          -0.0029      0.004     -0.715      0.475      -0.011       0.005\n",
      "STATE[T.Washington]         0.0019      0.065      0.030      0.976      -0.125       0.129\n",
      "STATE[T.West Virginia]      0.0113      0.004      2.537      0.011       0.003       0.020\n",
      "STATE[T.Wisconsin]         -0.0256      0.776     -0.033      0.974      -1.547       1.496\n",
      "STATE[T.Wyoming]           -0.0002      0.065     -0.004      0.997      -0.127       0.127\n",
      "region[T.Northeast]        -0.0261      0.699     -0.037      0.970      -1.395       1.343\n",
      "region[T.South]            -0.0268      0.776     -0.034      0.972      -1.548       1.495\n",
      "region[T.West]             -0.0269      0.712     -0.038      0.970      -1.422       1.368\n",
      "ppctchg_0010               -0.0003   6.91e-05     -3.889      0.000      -0.000      -0.000\n",
      "np.log(pop00)              -0.0015      0.001     -2.722      0.006      -0.003      -0.000\n",
      "pwhite_00                   0.0493      0.004     12.112      0.000       0.041       0.057\n",
      "==============================================================================\n",
      "Omnibus:                      653.416   Durbin-Watson:                   1.993\n",
      "Prob(Omnibus):                  0.000   Jarque-Bera (JB):            11626.775\n",
      "Skew:                           0.510   Prob(JB):                         0.00\n",
      "Kurtosis:                      12.425   Cond. No.                     1.32e+16\n",
      "==============================================================================\n",
      "\n",
      "Warnings:\n",
      "[1] Standard Errors are heteroscedasticity robust (HC3)\n",
      "[2] The smallest eigenvalue is 4.14e-27. This might indicate that there are\n",
      "strong multicollinearity problems or that the design matrix is singular.\n"
     ]
    }
   ],
   "source": [
    "# regress change in specialization (t2 - t1)  on pop change\n",
    "m = 'S_us_diff_0010 ~ ppctchg_0010 + np.log(pop00) + pwhite_00 + STATE + region'\n",
    "results = smf.ols(m, data=df).fit(cov_type='HC3')\n",
    "print results.summary()"
   ]
  },
  {
   "cell_type": "code",
   "execution_count": 12,
   "metadata": {
    "scrolled": true
   },
   "outputs": [
    {
     "name": "stdout",
     "output_type": "stream",
     "text": [
      "                            OLS Regression Results                            \n",
      "==============================================================================\n",
      "Dep. Variable:         S_us_diff_9000   R-squared:                       0.335\n",
      "Model:                            OLS   Adj. R-squared:                  0.324\n",
      "Method:                 Least Squares   F-statistic:                     31.28\n",
      "Date:                Tue, 16 Oct 2018   Prob (F-statistic):          1.98e-244\n",
      "Time:                        22:19:26   Log-Likelihood:                 7168.4\n",
      "No. Observations:                3105   AIC:                        -1.423e+04\n",
      "Df Residuals:                    3053   BIC:                        -1.392e+04\n",
      "Df Model:                          51                                         \n",
      "Covariance Type:                  HC3                                         \n",
      "===========================================================================================\n",
      "                              coef    std err          z      P>|z|      [0.025      0.975]\n",
      "-------------------------------------------------------------------------------------------\n",
      "Intercept                  -0.0068      0.586     -0.012      0.991      -1.156       1.143\n",
      "STATE[T.Arizona]           -0.0244      0.050     -0.491      0.624      -0.122       0.073\n",
      "STATE[T.Arkansas]          -0.0084      0.004     -2.086      0.037      -0.016      -0.001\n",
      "STATE[T.California]         0.0164      0.049      0.334      0.738      -0.080       0.113\n",
      "STATE[T.Colorado]          -0.0081      0.049     -0.165      0.869      -0.104       0.088\n",
      "STATE[T.Connecticut]       -0.0209      0.059     -0.354      0.723      -0.136       0.095\n",
      "STATE[T.Delaware]          -0.0086      0.007     -1.177      0.239      -0.023       0.006\n",
      "STATE[T.Florida]            0.0005      0.005      0.120      0.904      -0.008       0.009\n",
      "STATE[T.Georgia]           -0.0125      0.004     -3.068      0.002      -0.020      -0.005\n",
      "STATE[T.Idaho]              0.0004      0.049      0.008      0.994      -0.096       0.096\n",
      "STATE[T.Illinois]          -0.0187      0.586     -0.032      0.975      -1.168       1.131\n",
      "STATE[T.Indiana]           -0.0146      0.586     -0.025      0.980      -1.164       1.135\n",
      "STATE[T.Iowa]              -0.0169      0.586     -0.029      0.977      -1.166       1.133\n",
      "STATE[T.Kansas]            -0.0141      0.586     -0.024      0.981      -1.164       1.135\n",
      "STATE[T.Kentucky]           0.0107      0.003      3.607      0.000       0.005       0.017\n",
      "STATE[T.Louisiana]         -0.0034      0.004     -0.881      0.378      -0.011       0.004\n",
      "STATE[T.Maine]              0.0101      0.059      0.171      0.864      -0.105       0.125\n",
      "STATE[T.Maryland]           0.0107      0.006      1.826      0.068      -0.001       0.022\n",
      "STATE[T.Massachusetts]     -0.0105      0.059     -0.178      0.859      -0.126       0.105\n",
      "STATE[T.Michigan]          -0.0164      0.586     -0.028      0.978      -1.166       1.133\n",
      "STATE[T.Minnesota]         -0.0205      0.586     -0.035      0.972      -1.170       1.129\n",
      "STATE[T.Mississippi]        0.0023      0.004      0.582      0.561      -0.006       0.010\n",
      "STATE[T.Missouri]          -0.0120      0.586     -0.020      0.984      -1.161       1.137\n",
      "STATE[T.Montana]            0.0158      0.049      0.324      0.746      -0.080       0.112\n",
      "STATE[T.Nebraska]          -0.0171      0.586     -0.029      0.977      -1.167       1.132\n",
      "STATE[T.Nevada]             0.0002      0.049      0.004      0.996      -0.097       0.097\n",
      "STATE[T.New Hampshire]      0.0083      0.059      0.142      0.887      -0.107       0.123\n",
      "STATE[T.New Jersey]         0.0002      0.059      0.004      0.997      -0.115       0.116\n",
      "STATE[T.New Mexico]        -0.0208      0.049     -0.421      0.673      -0.117       0.076\n",
      "STATE[T.New York]          -0.0034      0.059     -0.059      0.953      -0.119       0.112\n",
      "STATE[T.North Carolina]    -0.0153      0.004     -4.222      0.000      -0.022      -0.008\n",
      "STATE[T.North Dakota]      -0.0061      0.586     -0.010      0.992      -1.156       1.143\n",
      "STATE[T.Ohio]              -0.0088      0.586     -0.015      0.988      -1.158       1.141\n",
      "STATE[T.Oklahoma]          -0.0030      0.003     -0.895      0.371      -0.010       0.004\n",
      "STATE[T.Oregon]            -0.0101      0.049     -0.207      0.836      -0.106       0.086\n",
      "STATE[T.Pennsylvania]       0.0018      0.059      0.031      0.976      -0.113       0.117\n",
      "STATE[T.Rhode Island]      -0.0112      0.061     -0.183      0.855      -0.131       0.108\n",
      "STATE[T.South Carolina]    -0.0162      0.004     -3.613      0.000      -0.025      -0.007\n",
      "STATE[T.South Dakota]      -0.0024      0.586     -0.004      0.997      -1.152       1.147\n",
      "STATE[T.Tennessee]          0.0077      0.003      2.371      0.018       0.001       0.014\n",
      "STATE[T.Texas]             -0.0120      0.003     -3.899      0.000      -0.018      -0.006\n",
      "STATE[T.Utah]              -0.0013      0.049     -0.026      0.979      -0.097       0.095\n",
      "STATE[T.Vermont]            0.0073      0.059      0.125      0.900      -0.108       0.122\n",
      "STATE[T.Virginia]          -0.0038      0.004     -1.031      0.303      -0.011       0.003\n",
      "STATE[T.Washington]         0.0029      0.049      0.059      0.953      -0.093       0.099\n",
      "STATE[T.West Virginia]      0.0109      0.003      3.504      0.000       0.005       0.017\n",
      "STATE[T.Wisconsin]         -0.0130      0.586     -0.022      0.982      -1.162       1.136\n",
      "STATE[T.Wyoming]            0.0084      0.049      0.173      0.863      -0.087       0.104\n",
      "region[T.Northeast]        -0.0182      0.528     -0.034      0.972      -1.053       1.016\n",
      "region[T.South]            -0.0154      0.586     -0.026      0.979      -1.165       1.134\n",
      "region[T.West]             -0.0205      0.538     -0.038      0.970      -1.074       1.033\n",
      "ppctchg_9000               -0.0002   3.84e-05     -6.371      0.000      -0.000      -0.000\n",
      "np.log(pop90)               0.0006      0.001      1.197      0.231      -0.000       0.002\n",
      "pwhite_90                   0.0614      0.005     12.693      0.000       0.052       0.071\n",
      "==============================================================================\n",
      "Omnibus:                      554.442   Durbin-Watson:                   2.030\n",
      "Prob(Omnibus):                  0.000   Jarque-Bera (JB):             9756.161\n",
      "Skew:                           0.309   Prob(JB):                         0.00\n",
      "Kurtosis:                      11.662   Cond. No.                     1.37e+16\n",
      "==============================================================================\n",
      "\n",
      "Warnings:\n",
      "[1] Standard Errors are heteroscedasticity robust (HC3)\n",
      "[2] The smallest eigenvalue is 7.05e-27. This might indicate that there are\n",
      "strong multicollinearity problems or that the design matrix is singular.\n"
     ]
    }
   ],
   "source": [
    "# regress change in specialization (t2 - t1)  on pop change\n",
    "m = 'S_us_diff_9000 ~ ppctchg_9000 + np.log(pop90) + pwhite_90 + STATE + region'\n",
    "results = smf.ols(m, data=df).fit(cov_type='HC3')\n",
    "print results.summary()"
   ]
  },
  {
   "cell_type": "markdown",
   "metadata": {},
   "source": [
    "# piecewise regression\n",
    "if we want to say something specifically about the impact of _loss_ on changing diversity, we might want to incorporate growth and loss in piecewise fashion. Population change does not directly tell us about loss"
   ]
  },
  {
   "cell_type": "code",
   "execution_count": 13,
   "metadata": {},
   "outputs": [],
   "source": [
    "# create piecewise variables\n",
    "# gen new var with increasing values for pop change tracts alone\n",
    "df['pop_loss'] = 0\n",
    "df.loc[df['ppctchg_0010'] < 0, 'pop_loss'] = df['ppctchg_0010'] * -1\n",
    "df['intl'] = 1\n",
    "df.loc[df['ppctchg_0010'] >= 0, 'intl'] = 0\n",
    "\n",
    "df['pop_gain'] = 0\n",
    "df.loc[df['ppctchg_0010'] >= 0, 'pop_gain'] = df['ppctchg_0010']\n",
    "df['intg'] = 1\n",
    "df.loc[df['ppctchg_0010'] < 0, 'intg'] = 0"
   ]
  },
  {
   "cell_type": "code",
   "execution_count": 14,
   "metadata": {},
   "outputs": [
    {
     "name": "stdout",
     "output_type": "stream",
     "text": [
      "1085\n",
      "2020\n"
     ]
    }
   ],
   "source": [
    "# how many loss counties?\n",
    "print len(df.loc[df['ppctchg_0010']<0])\n",
    "# how many growth?\n",
    "print len(df.loc[df['ppctchg_0010']>=0])"
   ]
  },
  {
   "cell_type": "code",
   "execution_count": 15,
   "metadata": {
    "scrolled": true
   },
   "outputs": [
    {
     "name": "stdout",
     "output_type": "stream",
     "text": [
      "                            OLS Regression Results                            \n",
      "==============================================================================\n",
      "Dep. Variable:         S_us_diff_0010   R-squared:                       0.265\n",
      "Model:                            OLS   Adj. R-squared:                  0.253\n",
      "Method:                 Least Squares   F-statistic:                     21.02\n",
      "Date:                Tue, 16 Oct 2018   Prob (F-statistic):          1.06e-168\n",
      "Time:                        22:19:26   Log-Likelihood:                 7297.1\n",
      "No. Observations:                3105   AIC:                        -1.449e+04\n",
      "Df Residuals:                    3052   BIC:                        -1.417e+04\n",
      "Df Model:                          52                                         \n",
      "Covariance Type:                  HC3                                         \n",
      "===========================================================================================\n",
      "                              coef    std err          z      P>|z|      [0.025      0.975]\n",
      "-------------------------------------------------------------------------------------------\n",
      "Intercept                   0.0300      2.536      0.012      0.991      -4.941       5.001\n",
      "STATE[T.Arizona]           -0.0147      0.211     -0.069      0.945      -0.429       0.400\n",
      "STATE[T.Arkansas]          -0.0009      0.004     -0.261      0.794      -0.008       0.006\n",
      "STATE[T.California]         0.0153      0.211      0.072      0.942      -0.399       0.430\n",
      "STATE[T.Colorado]          -0.0123      0.211     -0.058      0.954      -0.427       0.402\n",
      "STATE[T.Connecticut]       -0.0170      0.254     -0.067      0.946      -0.514       0.480\n",
      "STATE[T.Delaware]           0.0005      0.009      0.062      0.951      -0.016       0.017\n",
      "STATE[T.Florida]            0.0012      0.005      0.254      0.800      -0.008       0.011\n",
      "STATE[T.Georgia]           -0.0021      0.004     -0.503      0.615      -0.010       0.006\n",
      "STATE[T.Idaho]              0.0023      0.211      0.011      0.991      -0.412       0.417\n",
      "STATE[T.Illinois]          -0.0274      2.536     -0.011      0.991      -4.999       4.944\n",
      "STATE[T.Indiana]           -0.0255      2.536     -0.010      0.992      -4.997       4.946\n",
      "STATE[T.Iowa]              -0.0304      2.536     -0.012      0.990      -5.002       4.941\n",
      "STATE[T.Kansas]            -0.0296      2.536     -0.012      0.991      -5.001       4.942\n",
      "STATE[T.Kentucky]           0.0083      0.003      2.744      0.006       0.002       0.014\n",
      "STATE[T.Louisiana]          0.0005      0.004      0.132      0.895      -0.007       0.008\n",
      "STATE[T.Maine]              0.0072      0.254      0.028      0.977      -0.490       0.504\n",
      "STATE[T.Maryland]           0.0015      0.008      0.187      0.852      -0.015       0.018\n",
      "STATE[T.Massachusetts]     -0.0137      0.254     -0.054      0.957      -0.511       0.484\n",
      "STATE[T.Michigan]          -0.0162      2.536     -0.006      0.995      -4.988       4.955\n",
      "STATE[T.Minnesota]         -0.0275      2.536     -0.011      0.991      -4.999       4.944\n",
      "STATE[T.Mississippi]        0.0068      0.004      1.850      0.064      -0.000       0.014\n",
      "STATE[T.Missouri]          -0.0188      2.536     -0.007      0.994      -4.990       4.953\n",
      "STATE[T.Montana]            0.0108      0.211      0.051      0.959      -0.403       0.425\n",
      "STATE[T.Nebraska]          -0.0283      2.536     -0.011      0.991      -5.000       4.943\n",
      "STATE[T.Nevada]            -0.0022      0.211     -0.010      0.992      -0.417       0.412\n",
      "STATE[T.New Hampshire]      0.0032      0.254      0.012      0.990      -0.494       0.500\n",
      "STATE[T.New Jersey]        -0.0019      0.254     -0.008      0.994      -0.499       0.495\n",
      "STATE[T.New Mexico]        -0.0166      0.211     -0.078      0.937      -0.431       0.398\n",
      "STATE[T.New York]          -0.0021      0.254     -0.008      0.994      -0.499       0.495\n",
      "STATE[T.North Carolina]    -0.0087      0.003     -2.619      0.009      -0.015      -0.002\n",
      "STATE[T.North Dakota]      -0.0212      2.536     -0.008      0.993      -4.993       4.950\n",
      "STATE[T.Ohio]              -0.0167      2.536     -0.007      0.995      -4.988       4.955\n",
      "STATE[T.Oklahoma]           0.0016      0.004      0.436      0.663      -0.005       0.009\n",
      "STATE[T.Oregon]            -0.0049      0.211     -0.023      0.981      -0.419       0.409\n",
      "STATE[T.Pennsylvania]      -0.0045      0.254     -0.018      0.986      -0.502       0.493\n",
      "STATE[T.Rhode Island]      -0.0046      0.254     -0.018      0.986      -0.502       0.493\n",
      "STATE[T.South Carolina]    -0.0145      0.005     -3.188      0.001      -0.023      -0.006\n",
      "STATE[T.South Dakota]      -0.0180      2.536     -0.007      0.994      -4.989       4.953\n",
      "STATE[T.Tennessee]          0.0060      0.003      1.992      0.046    9.55e-05       0.012\n",
      "STATE[T.Texas]             -0.0026      0.003     -0.838      0.402      -0.009       0.004\n",
      "STATE[T.Utah]              -0.0058      0.211     -0.027      0.978      -0.420       0.409\n",
      "STATE[T.Vermont]            0.0074      0.254      0.029      0.977      -0.490       0.505\n",
      "STATE[T.Virginia]          -0.0031      0.004     -0.772      0.440      -0.011       0.005\n",
      "STATE[T.Washington]         0.0018      0.211      0.009      0.993      -0.412       0.416\n",
      "STATE[T.West Virginia]      0.0111      0.004      2.500      0.012       0.002       0.020\n",
      "STATE[T.Wisconsin]         -0.0256      2.536     -0.010      0.992      -4.997       4.946\n",
      "STATE[T.Wyoming]           -0.0004      0.211     -0.002      0.998      -0.415       0.414\n",
      "region[T.Northeast]        -0.0261      2.283     -0.011      0.991      -4.500       4.448\n",
      "region[T.South]            -0.0264      2.536     -0.010      0.992      -4.998       4.945\n",
      "region[T.West]             -0.0266      2.325     -0.011      0.991      -4.584       4.530\n",
      "pop_loss                 -3.06e-06      0.000     -0.017      0.987      -0.000       0.000\n",
      "pop_gain                   -0.0003   7.88e-05     -4.058      0.000      -0.000      -0.000\n",
      "np.log(pop00)              -0.0017      0.001     -2.930      0.003      -0.003      -0.001\n",
      "pwhite_00                   0.0489      0.004     11.976      0.000       0.041       0.057\n",
      "==============================================================================\n",
      "Omnibus:                      668.900   Durbin-Watson:                   1.989\n",
      "Prob(Omnibus):                  0.000   Jarque-Bera (JB):            11827.305\n",
      "Skew:                           0.540   Prob(JB):                         0.00\n",
      "Kurtosis:                      12.500   Cond. No.                     1.19e+16\n",
      "==============================================================================\n",
      "\n",
      "Warnings:\n",
      "[1] Standard Errors are heteroscedasticity robust (HC3)\n",
      "[2] The smallest eigenvalue is 5.1e-27. This might indicate that there are\n",
      "strong multicollinearity problems or that the design matrix is singular.\n"
     ]
    }
   ],
   "source": [
    "# regress change in specialization (t2 - t1)  on pop change\n",
    "m = 'S_us_diff_0010 ~ pop_loss + pop_gain + np.log(pop00) + pwhite_00 + STATE + region'\n",
    "results = smf.ols(m, data=df).fit(cov_type='HC3')\n",
    "print results.summary()"
   ]
  },
  {
   "cell_type": "code",
   "execution_count": 16,
   "metadata": {
    "scrolled": true
   },
   "outputs": [
    {
     "name": "stdout",
     "output_type": "stream",
     "text": [
      "                            OLS Regression Results                            \n",
      "==============================================================================\n",
      "Dep. Variable:         S_us_diff_0010   R-squared:                       0.257\n",
      "Model:                            OLS   Adj. R-squared:                  0.244\n",
      "Method:                 Least Squares   F-statistic:                     21.53\n",
      "Date:                Tue, 16 Oct 2018   Prob (F-statistic):          2.82e-170\n",
      "Time:                        22:19:26   Log-Likelihood:                 7279.7\n",
      "No. Observations:                3105   AIC:                        -1.446e+04\n",
      "Df Residuals:                    3053   BIC:                        -1.414e+04\n",
      "Df Model:                          51                                         \n",
      "Covariance Type:                  HC3                                         \n",
      "===========================================================================================\n",
      "                              coef    std err          z      P>|z|      [0.025      0.975]\n",
      "-------------------------------------------------------------------------------------------\n",
      "Intercept                   0.0335      4.641      0.007      0.994      -9.062       9.129\n",
      "STATE[T.Arizona]           -0.0169      0.387     -0.044      0.965      -0.775       0.741\n",
      "STATE[T.Arkansas]          -0.0008      0.004     -0.220      0.826      -0.008       0.006\n",
      "STATE[T.California]         0.0167      0.387      0.043      0.966      -0.741       0.775\n",
      "STATE[T.Colorado]          -0.0126      0.387     -0.033      0.974      -0.771       0.745\n",
      "STATE[T.Connecticut]       -0.0164      0.464     -0.035      0.972      -0.926       0.893\n",
      "STATE[T.Delaware]          -0.0013      0.009     -0.137      0.891      -0.019       0.017\n",
      "STATE[T.Florida]           -0.0011      0.005     -0.230      0.818      -0.010       0.008\n",
      "STATE[T.Georgia]           -0.0042      0.004     -1.002      0.317      -0.012       0.004\n",
      "STATE[T.Idaho]              0.0020      0.387      0.005      0.996      -0.756       0.760\n",
      "STATE[T.Illinois]          -0.0281      4.641     -0.006      0.995      -9.124       9.067\n",
      "STATE[T.Indiana]           -0.0251      4.641     -0.005      0.996      -9.121       9.070\n",
      "STATE[T.Iowa]              -0.0309      4.641     -0.007      0.995      -9.126       9.065\n",
      "STATE[T.Kansas]            -0.0307      4.641     -0.007      0.995      -9.126       9.065\n",
      "STATE[T.Kentucky]           0.0094      0.003      3.072      0.002       0.003       0.015\n",
      "STATE[T.Louisiana]          0.0011      0.004      0.258      0.796      -0.007       0.009\n",
      "STATE[T.Maine]              0.0078      0.464      0.017      0.987      -0.902       0.917\n",
      "STATE[T.Maryland]           0.0023      0.008      0.278      0.781      -0.014       0.018\n",
      "STATE[T.Massachusetts]     -0.0132      0.464     -0.028      0.977      -0.923       0.896\n",
      "STATE[T.Michigan]          -0.0156      4.641     -0.003      0.997      -9.111       9.080\n",
      "STATE[T.Minnesota]         -0.0282      4.641     -0.006      0.995      -9.124       9.067\n",
      "STATE[T.Mississippi]        0.0063      0.004      1.721      0.085      -0.001       0.014\n",
      "STATE[T.Missouri]          -0.0189      4.641     -0.004      0.997      -9.114       9.077\n",
      "STATE[T.Montana]            0.0116      0.387      0.030      0.976      -0.746       0.770\n",
      "STATE[T.Nebraska]          -0.0294      4.641     -0.006      0.995      -9.125       9.066\n",
      "STATE[T.Nevada]            -0.0035      0.387     -0.009      0.993      -0.761       0.755\n",
      "STATE[T.New Hampshire]      0.0030      0.464      0.007      0.995      -0.907       0.913\n",
      "STATE[T.New Jersey]        -0.0016      0.464     -0.003      0.997      -0.911       0.908\n",
      "STATE[T.New Mexico]        -0.0167      0.387     -0.043      0.966      -0.775       0.741\n",
      "STATE[T.New York]          -0.0018      0.464     -0.004      0.997      -0.911       0.908\n",
      "STATE[T.North Carolina]    -0.0092      0.003     -2.740      0.006      -0.016      -0.003\n",
      "STATE[T.North Dakota]      -0.0228      4.641     -0.005      0.996      -9.118       9.073\n",
      "STATE[T.Ohio]              -0.0161      4.641     -0.003      0.997      -9.112       9.079\n",
      "STATE[T.Oklahoma]           0.0023      0.004      0.629      0.529      -0.005       0.009\n",
      "STATE[T.Oregon]            -0.0034      0.387     -0.009      0.993      -0.761       0.755\n",
      "STATE[T.Pennsylvania]      -0.0057      0.464     -0.012      0.990      -0.915       0.904\n",
      "STATE[T.Rhode Island]      -0.0045      0.464     -0.010      0.992      -0.914       0.905\n",
      "STATE[T.South Carolina]    -0.0150      0.005     -3.282      0.001      -0.024      -0.006\n",
      "STATE[T.South Dakota]      -0.0197      4.641     -0.004      0.997      -9.115       9.076\n",
      "STATE[T.Tennessee]          0.0070      0.003      2.254      0.024       0.001       0.013\n",
      "STATE[T.Texas]             -0.0035      0.003     -1.116      0.265      -0.010       0.003\n",
      "STATE[T.Utah]              -0.0077      0.387     -0.020      0.984      -0.766       0.750\n",
      "STATE[T.Vermont]            0.0076      0.464      0.016      0.987      -0.902       0.917\n",
      "STATE[T.Virginia]          -0.0035      0.004     -0.866      0.387      -0.011       0.004\n",
      "STATE[T.Washington]         0.0026      0.387      0.007      0.995      -0.755       0.761\n",
      "STATE[T.West Virginia]      0.0117      0.005      2.576      0.010       0.003       0.021\n",
      "STATE[T.Wisconsin]         -0.0251      4.641     -0.005      0.996      -9.121       9.070\n",
      "STATE[T.Wyoming]           -0.0006      0.387     -0.002      0.999      -0.759       0.757\n",
      "region[T.Northeast]        -0.0247      4.177     -0.006      0.995      -8.211       8.161\n",
      "region[T.South]            -0.0275      4.641     -0.006      0.995      -9.123       9.068\n",
      "region[T.West]             -0.0284      4.254     -0.007      0.995      -8.366       8.309\n",
      "intl                        0.0044      0.001      4.088      0.000       0.002       0.006\n",
      "np.log(pop00)              -0.0021      0.001     -4.161      0.000      -0.003      -0.001\n",
      "pwhite_00                   0.0464      0.004     11.760      0.000       0.039       0.054\n",
      "==============================================================================\n",
      "Omnibus:                      582.529   Durbin-Watson:                   1.988\n",
      "Prob(Omnibus):                  0.000   Jarque-Bera (JB):            10435.283\n",
      "Skew:                           0.366   Prob(JB):                         0.00\n",
      "Kurtosis:                      11.951   Cond. No.                     1.01e+16\n",
      "==============================================================================\n",
      "\n",
      "Warnings:\n",
      "[1] Standard Errors are heteroscedasticity robust (HC3)\n",
      "[2] The smallest eigenvalue is 3.28e-27. This might indicate that there are\n",
      "strong multicollinearity problems or that the design matrix is singular.\n"
     ]
    }
   ],
   "source": [
    "# try with dummy variables for gain and loss to check for non-linear effect\n",
    "# regress change in specialization (t2 - t1)  on pop change\n",
    "m = 'S_us_diff_0010 ~ intl + np.log(pop00) + pwhite_00 + STATE + region'\n",
    "results = smf.ols(m, data=df).fit(cov_type='HC3')\n",
    "print results.summary()"
   ]
  },
  {
   "cell_type": "markdown",
   "metadata": {},
   "source": [
    "# predicted values\n",
    "\n",
    "can't use sfm to generate predicted values. need to create dummies outside of the formula."
   ]
  },
  {
   "cell_type": "code",
   "execution_count": 17,
   "metadata": {},
   "outputs": [
    {
     "data": {
      "text/html": [
       "<div>\n",
       "<style>\n",
       "    .dataframe thead tr:only-child th {\n",
       "        text-align: right;\n",
       "    }\n",
       "\n",
       "    .dataframe thead th {\n",
       "        text-align: left;\n",
       "    }\n",
       "\n",
       "    .dataframe tbody tr th {\n",
       "        vertical-align: top;\n",
       "    }\n",
       "</style>\n",
       "<table border=\"1\" class=\"dataframe\">\n",
       "  <thead>\n",
       "    <tr style=\"text-align: right;\">\n",
       "      <th></th>\n",
       "      <th>S_us_diff_0010</th>\n",
       "      <th>ppctchg_0010</th>\n",
       "      <th>pop00_ln</th>\n",
       "      <th>pwhite_00</th>\n",
       "      <th>region_Northeast</th>\n",
       "      <th>region_South</th>\n",
       "      <th>region_West</th>\n",
       "      <th>intercept</th>\n",
       "    </tr>\n",
       "  </thead>\n",
       "  <tbody>\n",
       "    <tr>\n",
       "      <th>G0100010</th>\n",
       "      <td>0.033453</td>\n",
       "      <td>24.953919</td>\n",
       "      <td>10.684483</td>\n",
       "      <td>0.797373</td>\n",
       "      <td>0</td>\n",
       "      <td>1</td>\n",
       "      <td>0</td>\n",
       "      <td>1.0</td>\n",
       "    </tr>\n",
       "    <tr>\n",
       "      <th>G0100030</th>\n",
       "      <td>0.028610</td>\n",
       "      <td>29.804508</td>\n",
       "      <td>11.852358</td>\n",
       "      <td>0.860791</td>\n",
       "      <td>0</td>\n",
       "      <td>1</td>\n",
       "      <td>0</td>\n",
       "      <td>1.0</td>\n",
       "    </tr>\n",
       "    <tr>\n",
       "      <th>G0100050</th>\n",
       "      <td>0.004804</td>\n",
       "      <td>-5.447358</td>\n",
       "      <td>10.276390</td>\n",
       "      <td>0.509257</td>\n",
       "      <td>0</td>\n",
       "      <td>1</td>\n",
       "      <td>0</td>\n",
       "      <td>1.0</td>\n",
       "    </tr>\n",
       "    <tr>\n",
       "      <th>G0100070</th>\n",
       "      <td>0.039964</td>\n",
       "      <td>10.028565</td>\n",
       "      <td>9.943977</td>\n",
       "      <td>0.762032</td>\n",
       "      <td>0</td>\n",
       "      <td>1</td>\n",
       "      <td>0</td>\n",
       "      <td>1.0</td>\n",
       "    </tr>\n",
       "    <tr>\n",
       "      <th>G0100090</th>\n",
       "      <td>0.022109</td>\n",
       "      <td>12.333062</td>\n",
       "      <td>10.840142</td>\n",
       "      <td>0.921117</td>\n",
       "      <td>0</td>\n",
       "      <td>1</td>\n",
       "      <td>0</td>\n",
       "      <td>1.0</td>\n",
       "    </tr>\n",
       "  </tbody>\n",
       "</table>\n",
       "</div>"
      ],
      "text/plain": [
       "          S_us_diff_0010  ppctchg_0010   pop00_ln  pwhite_00  \\\n",
       "G0100010        0.033453     24.953919  10.684483   0.797373   \n",
       "G0100030        0.028610     29.804508  11.852358   0.860791   \n",
       "G0100050        0.004804     -5.447358  10.276390   0.509257   \n",
       "G0100070        0.039964     10.028565   9.943977   0.762032   \n",
       "G0100090        0.022109     12.333062  10.840142   0.921117   \n",
       "\n",
       "          region_Northeast  region_South  region_West  intercept  \n",
       "G0100010                 0             1            0        1.0  \n",
       "G0100030                 0             1            0        1.0  \n",
       "G0100050                 0             1            0        1.0  \n",
       "G0100070                 0             1            0        1.0  \n",
       "G0100090                 0             1            0        1.0  "
      ]
     },
     "execution_count": 17,
     "metadata": {},
     "output_type": "execute_result"
    }
   ],
   "source": [
    "# generate new vars for prediction \n",
    "df['pop00_ln'] = np.log(df['pop00'])\n",
    "\n",
    "dummy_regions = pd.get_dummies(df['region'], prefix='region')\n",
    "\n",
    "cols_to_keep = ['S_us_diff_0010', 'ppctchg_0010', 'pop00_ln', 'pwhite_00']\n",
    "data = df[cols_to_keep].join(dummy_regions.loc[:, 'region_Northeast':])\n",
    "data['intercept'] = 1.0\n",
    "data.head()"
   ]
  },
  {
   "cell_type": "code",
   "execution_count": 18,
   "metadata": {
    "collapsed": true
   },
   "outputs": [],
   "source": [
    "# remove DV from dataframe to supply to reg model\n",
    "train_cols = data.columns[1:]"
   ]
  },
  {
   "cell_type": "code",
   "execution_count": 19,
   "metadata": {},
   "outputs": [
    {
     "name": "stdout",
     "output_type": "stream",
     "text": [
      "                            OLS Regression Results                            \n",
      "==============================================================================\n",
      "Dep. Variable:         S_us_diff_0010   R-squared:                       0.212\n",
      "Model:                            OLS   Adj. R-squared:                  0.210\n",
      "Method:                 Least Squares   F-statistic:                     89.17\n",
      "Date:                Tue, 16 Oct 2018   Prob (F-statistic):          1.80e-103\n",
      "Time:                        22:19:26   Log-Likelihood:                 7188.0\n",
      "No. Observations:                3105   AIC:                        -1.436e+04\n",
      "Df Residuals:                    3098   BIC:                        -1.432e+04\n",
      "Df Model:                           6                                         \n",
      "Covariance Type:                  HC3                                         \n",
      "====================================================================================\n",
      "                       coef    std err          z      P>|z|      [0.025      0.975]\n",
      "------------------------------------------------------------------------------------\n",
      "ppctchg_0010        -0.0003    6.4e-05     -5.230      0.000      -0.000      -0.000\n",
      "pop00_ln            -0.0009      0.000     -1.834      0.067      -0.002    5.93e-05\n",
      "pwhite_00            0.0585      0.003     16.827      0.000       0.052       0.065\n",
      "region_Northeast    -0.0049      0.002     -2.910      0.004      -0.008      -0.002\n",
      "region_South        -0.0002      0.001     -0.158      0.875      -0.002       0.002\n",
      "region_West         -0.0013      0.001     -0.876      0.381      -0.004       0.002\n",
      "intercept           -0.0121      0.007     -1.833      0.067      -0.025       0.001\n",
      "==============================================================================\n",
      "Omnibus:                      573.721   Durbin-Watson:                   1.870\n",
      "Prob(Omnibus):                  0.000   Jarque-Bera (JB):             8531.094\n",
      "Skew:                           0.429   Prob(JB):                         0.00\n",
      "Kurtosis:                      11.075   Cond. No.                         188.\n",
      "==============================================================================\n",
      "\n",
      "Warnings:\n",
      "[1] Standard Errors are heteroscedasticity robust (HC3)\n"
     ]
    }
   ],
   "source": [
    "# run model\n",
    "results = sm.OLS(data['S_us_diff_0010'], data[train_cols]).fit(cov_type='HC3')\n",
    "print results.summary()"
   ]
  },
  {
   "cell_type": "code",
   "execution_count": 20,
   "metadata": {
    "collapsed": true
   },
   "outputs": [],
   "source": [
    "# create dataframe of values based on model results\n",
    "\n",
    "def cartesian(arrays, out=None):\n",
    "\n",
    "    arrays = [np.asarray(x) for x in arrays]\n",
    "    dtype = arrays[0].dtype\n",
    "\n",
    "    n = np.prod([x.size for x in arrays])\n",
    "    if out is None:\n",
    "        out = np.zeros([n, len(arrays)], dtype=dtype)\n",
    "\n",
    "    m = n / arrays[0].size\n",
    "    out[:,0] = np.repeat(arrays[0], m)\n",
    "    if arrays[1:]:\n",
    "        cartesian(arrays[1:], out=out[0:m,1:])\n",
    "        for j in xrange(1, arrays[0].size):\n",
    "            out[j*m:(j+1)*m,1:] = out[0:m,1:]\n",
    "    return out"
   ]
  },
  {
   "cell_type": "code",
   "execution_count": 21,
   "metadata": {},
   "outputs": [
    {
     "name": "stdout",
     "output_type": "stream",
     "text": [
      "[ -46.604856    -29.16527687  -11.72569773    5.7138814    23.15346054\n",
      "   40.59303967   58.03261881   75.47219794   92.91177708  110.35135621]\n"
     ]
    }
   ],
   "source": [
    "pop_chgs = np.linspace(data['ppctchg_0010'].min(), data['ppctchg_0010'].max(), 10)\n",
    "print pop_chgs"
   ]
  },
  {
   "cell_type": "code",
   "execution_count": 22,
   "metadata": {},
   "outputs": [
    {
     "data": {
      "text/plain": [
       "10.11795356265665"
      ]
     },
     "execution_count": 22,
     "metadata": {},
     "output_type": "execute_result"
    }
   ],
   "source": [
    "# take median 2000 population\n",
    "np.log(df['pop00'].median())"
   ]
  },
  {
   "cell_type": "code",
   "execution_count": 23,
   "metadata": {},
   "outputs": [
    {
     "data": {
      "text/plain": [
       "0.8934603433649365"
      ]
     },
     "execution_count": 23,
     "metadata": {},
     "output_type": "execute_result"
    }
   ],
   "source": [
    "# take median pct white in 2000\n",
    "df['pwhite_00'].median()"
   ]
  },
  {
   "cell_type": "code",
   "execution_count": 24,
   "metadata": {},
   "outputs": [
    {
     "data": {
      "text/html": [
       "<div>\n",
       "<style>\n",
       "    .dataframe thead tr:only-child th {\n",
       "        text-align: right;\n",
       "    }\n",
       "\n",
       "    .dataframe thead th {\n",
       "        text-align: left;\n",
       "    }\n",
       "\n",
       "    .dataframe tbody tr th {\n",
       "        vertical-align: top;\n",
       "    }\n",
       "</style>\n",
       "<table border=\"1\" class=\"dataframe\">\n",
       "  <thead>\n",
       "    <tr style=\"text-align: right;\">\n",
       "      <th></th>\n",
       "      <th>ppctchg_0010</th>\n",
       "      <th>pwhite_00</th>\n",
       "      <th>region</th>\n",
       "      <th>intercept</th>\n",
       "      <th>pop00_ln</th>\n",
       "    </tr>\n",
       "  </thead>\n",
       "  <tbody>\n",
       "    <tr>\n",
       "      <th>0</th>\n",
       "      <td>-46.604856</td>\n",
       "      <td>0.9</td>\n",
       "      <td>1.0</td>\n",
       "      <td>1.0</td>\n",
       "      <td>10.0</td>\n",
       "    </tr>\n",
       "    <tr>\n",
       "      <th>1</th>\n",
       "      <td>-46.604856</td>\n",
       "      <td>0.9</td>\n",
       "      <td>2.0</td>\n",
       "      <td>1.0</td>\n",
       "      <td>10.0</td>\n",
       "    </tr>\n",
       "    <tr>\n",
       "      <th>2</th>\n",
       "      <td>-46.604856</td>\n",
       "      <td>0.9</td>\n",
       "      <td>3.0</td>\n",
       "      <td>1.0</td>\n",
       "      <td>10.0</td>\n",
       "    </tr>\n",
       "    <tr>\n",
       "      <th>3</th>\n",
       "      <td>-46.604856</td>\n",
       "      <td>0.9</td>\n",
       "      <td>4.0</td>\n",
       "      <td>1.0</td>\n",
       "      <td>10.0</td>\n",
       "    </tr>\n",
       "    <tr>\n",
       "      <th>4</th>\n",
       "      <td>-29.165277</td>\n",
       "      <td>0.9</td>\n",
       "      <td>1.0</td>\n",
       "      <td>1.0</td>\n",
       "      <td>10.0</td>\n",
       "    </tr>\n",
       "  </tbody>\n",
       "</table>\n",
       "</div>"
      ],
      "text/plain": [
       "   ppctchg_0010  pwhite_00  region  intercept  pop00_ln\n",
       "0    -46.604856        0.9     1.0        1.0      10.0\n",
       "1    -46.604856        0.9     2.0        1.0      10.0\n",
       "2    -46.604856        0.9     3.0        1.0      10.0\n",
       "3    -46.604856        0.9     4.0        1.0      10.0\n",
       "4    -29.165277        0.9     1.0        1.0      10.0"
      ]
     },
     "execution_count": 24,
     "metadata": {},
     "output_type": "execute_result"
    }
   ],
   "source": [
    "# enumerate all possibilities\n",
    "combos = pd.DataFrame(cartesian([pop_chgs, [0.90], [1, 2, 3, 4], [ 1. ], [10]]))\n",
    "combos.columns = ['ppctchg_0010', 'pwhite_00', 'region', 'intercept', 'pop00_ln']\n",
    "combos.head()"
   ]
  },
  {
   "cell_type": "code",
   "execution_count": 39,
   "metadata": {},
   "outputs": [
    {
     "data": {
      "text/html": [
       "<div>\n",
       "<style>\n",
       "    .dataframe thead tr:only-child th {\n",
       "        text-align: right;\n",
       "    }\n",
       "\n",
       "    .dataframe thead th {\n",
       "        text-align: left;\n",
       "    }\n",
       "\n",
       "    .dataframe tbody tr th {\n",
       "        vertical-align: top;\n",
       "    }\n",
       "</style>\n",
       "<table border=\"1\" class=\"dataframe\">\n",
       "  <thead>\n",
       "    <tr style=\"text-align: right;\">\n",
       "      <th></th>\n",
       "      <th>ppctchg_0010</th>\n",
       "      <th>pwhite_00</th>\n",
       "      <th>region</th>\n",
       "      <th>intercept</th>\n",
       "      <th>pop00_ln</th>\n",
       "      <th>region_Northeast</th>\n",
       "      <th>region_South</th>\n",
       "      <th>region_West</th>\n",
       "    </tr>\n",
       "  </thead>\n",
       "  <tbody>\n",
       "    <tr>\n",
       "      <th>0</th>\n",
       "      <td>-46.604856</td>\n",
       "      <td>0.9</td>\n",
       "      <td>1.0</td>\n",
       "      <td>1.0</td>\n",
       "      <td>10.0</td>\n",
       "      <td>0</td>\n",
       "      <td>0</td>\n",
       "      <td>0</td>\n",
       "    </tr>\n",
       "    <tr>\n",
       "      <th>1</th>\n",
       "      <td>-46.604856</td>\n",
       "      <td>0.9</td>\n",
       "      <td>2.0</td>\n",
       "      <td>1.0</td>\n",
       "      <td>10.0</td>\n",
       "      <td>1</td>\n",
       "      <td>0</td>\n",
       "      <td>0</td>\n",
       "    </tr>\n",
       "    <tr>\n",
       "      <th>2</th>\n",
       "      <td>-46.604856</td>\n",
       "      <td>0.9</td>\n",
       "      <td>3.0</td>\n",
       "      <td>1.0</td>\n",
       "      <td>10.0</td>\n",
       "      <td>0</td>\n",
       "      <td>1</td>\n",
       "      <td>0</td>\n",
       "    </tr>\n",
       "    <tr>\n",
       "      <th>3</th>\n",
       "      <td>-46.604856</td>\n",
       "      <td>0.9</td>\n",
       "      <td>4.0</td>\n",
       "      <td>1.0</td>\n",
       "      <td>10.0</td>\n",
       "      <td>0</td>\n",
       "      <td>0</td>\n",
       "      <td>1</td>\n",
       "    </tr>\n",
       "    <tr>\n",
       "      <th>4</th>\n",
       "      <td>-29.165277</td>\n",
       "      <td>0.9</td>\n",
       "      <td>1.0</td>\n",
       "      <td>1.0</td>\n",
       "      <td>10.0</td>\n",
       "      <td>0</td>\n",
       "      <td>0</td>\n",
       "      <td>0</td>\n",
       "    </tr>\n",
       "  </tbody>\n",
       "</table>\n",
       "</div>"
      ],
      "text/plain": [
       "   ppctchg_0010  pwhite_00  region  intercept  pop00_ln  region_Northeast  \\\n",
       "0    -46.604856        0.9     1.0        1.0      10.0                 0   \n",
       "1    -46.604856        0.9     2.0        1.0      10.0                 1   \n",
       "2    -46.604856        0.9     3.0        1.0      10.0                 0   \n",
       "3    -46.604856        0.9     4.0        1.0      10.0                 0   \n",
       "4    -29.165277        0.9     1.0        1.0      10.0                 0   \n",
       "\n",
       "   region_South  region_West  \n",
       "0             0            0  \n",
       "1             0            0  \n",
       "2             1            0  \n",
       "3             0            1  \n",
       "4             0            0  "
      ]
     },
     "execution_count": 39,
     "metadata": {},
     "output_type": "execute_result"
    }
   ],
   "source": [
    "# recreate the dummy variables\n",
    "dummy_ranks = pd.get_dummies(combos['region'], prefix='region')\n",
    "dummy_ranks.columns = ['region_Midwest', 'region_Northeast', 'region_South', 'region_West']\n",
    "# keep only what we need for making predictions\n",
    "cols_to_keep = ['ppctchg_0010', 'pwhite_00', 'region', 'intercept', 'pop00_ln']\n",
    "combos = combos[cols_to_keep].join(dummy_ranks.loc[:, 'region_Northeast':])\n",
    "combos.head()"
   ]
  },
  {
   "cell_type": "code",
   "execution_count": 26,
   "metadata": {
    "collapsed": true
   },
   "outputs": [],
   "source": [
    "# make predictions on the enumerated dataset\n",
    "combos['dif_div_pred'] = results.predict(combos[train_cols])"
   ]
  },
  {
   "cell_type": "code",
   "execution_count": 27,
   "metadata": {},
   "outputs": [
    {
     "data": {
      "text/html": [
       "<div>\n",
       "<style>\n",
       "    .dataframe thead tr:only-child th {\n",
       "        text-align: right;\n",
       "    }\n",
       "\n",
       "    .dataframe thead th {\n",
       "        text-align: left;\n",
       "    }\n",
       "\n",
       "    .dataframe tbody tr th {\n",
       "        vertical-align: top;\n",
       "    }\n",
       "</style>\n",
       "<table border=\"1\" class=\"dataframe\">\n",
       "  <thead>\n",
       "    <tr style=\"text-align: right;\">\n",
       "      <th></th>\n",
       "      <th>ppctchg_0010</th>\n",
       "      <th>pwhite_00</th>\n",
       "      <th>region</th>\n",
       "      <th>intercept</th>\n",
       "      <th>pop00_ln</th>\n",
       "      <th>region_Northeast</th>\n",
       "      <th>region_South</th>\n",
       "      <th>region_West</th>\n",
       "      <th>dif_div_pred</th>\n",
       "    </tr>\n",
       "  </thead>\n",
       "  <tbody>\n",
       "    <tr>\n",
       "      <th>0</th>\n",
       "      <td>-46.604856</td>\n",
       "      <td>0.9</td>\n",
       "      <td>1.0</td>\n",
       "      <td>1.0</td>\n",
       "      <td>10.0</td>\n",
       "      <td>0</td>\n",
       "      <td>0</td>\n",
       "      <td>0</td>\n",
       "      <td>0.047558</td>\n",
       "    </tr>\n",
       "    <tr>\n",
       "      <th>1</th>\n",
       "      <td>-46.604856</td>\n",
       "      <td>0.9</td>\n",
       "      <td>2.0</td>\n",
       "      <td>1.0</td>\n",
       "      <td>10.0</td>\n",
       "      <td>1</td>\n",
       "      <td>0</td>\n",
       "      <td>0</td>\n",
       "      <td>0.042687</td>\n",
       "    </tr>\n",
       "    <tr>\n",
       "      <th>2</th>\n",
       "      <td>-46.604856</td>\n",
       "      <td>0.9</td>\n",
       "      <td>3.0</td>\n",
       "      <td>1.0</td>\n",
       "      <td>10.0</td>\n",
       "      <td>0</td>\n",
       "      <td>1</td>\n",
       "      <td>0</td>\n",
       "      <td>0.047379</td>\n",
       "    </tr>\n",
       "    <tr>\n",
       "      <th>3</th>\n",
       "      <td>-46.604856</td>\n",
       "      <td>0.9</td>\n",
       "      <td>4.0</td>\n",
       "      <td>1.0</td>\n",
       "      <td>10.0</td>\n",
       "      <td>0</td>\n",
       "      <td>0</td>\n",
       "      <td>1</td>\n",
       "      <td>0.046284</td>\n",
       "    </tr>\n",
       "    <tr>\n",
       "      <th>4</th>\n",
       "      <td>-29.165277</td>\n",
       "      <td>0.9</td>\n",
       "      <td>1.0</td>\n",
       "      <td>1.0</td>\n",
       "      <td>10.0</td>\n",
       "      <td>0</td>\n",
       "      <td>0</td>\n",
       "      <td>0</td>\n",
       "      <td>0.041720</td>\n",
       "    </tr>\n",
       "  </tbody>\n",
       "</table>\n",
       "</div>"
      ],
      "text/plain": [
       "   ppctchg_0010  pwhite_00  region  intercept  pop00_ln  region_Northeast  \\\n",
       "0    -46.604856        0.9     1.0        1.0      10.0                 0   \n",
       "1    -46.604856        0.9     2.0        1.0      10.0                 1   \n",
       "2    -46.604856        0.9     3.0        1.0      10.0                 0   \n",
       "3    -46.604856        0.9     4.0        1.0      10.0                 0   \n",
       "4    -29.165277        0.9     1.0        1.0      10.0                 0   \n",
       "\n",
       "   region_South  region_West  dif_div_pred  \n",
       "0             0            0      0.047558  \n",
       "1             0            0      0.042687  \n",
       "2             1            0      0.047379  \n",
       "3             0            1      0.046284  \n",
       "4             0            0      0.041720  "
      ]
     },
     "execution_count": 27,
     "metadata": {},
     "output_type": "execute_result"
    }
   ],
   "source": [
    "combos.head()"
   ]
  },
  {
   "cell_type": "code",
   "execution_count": 28,
   "metadata": {},
   "outputs": [
    {
     "name": "stdout",
     "output_type": "stream",
     "text": [
      "                     dif_div_pred\n",
      "ppctchg_0010 region              \n",
      "-46.604856   1.0         0.047558\n",
      "             2.0         0.042687\n",
      "             3.0         0.047379\n",
      "             4.0         0.046284\n",
      "-29.165277   1.0         0.041720\n"
     ]
    }
   ],
   "source": [
    "grouped = pd.pivot_table(combos, values=['dif_div_pred'], index=['ppctchg_0010', 'region'], aggfunc=np.mean)\n",
    "print grouped.head()"
   ]
  },
  {
   "cell_type": "code",
   "execution_count": 29,
   "metadata": {},
   "outputs": [
    {
     "data": {
      "text/plain": [
       "(-0.10851461159420155, 0.17281358231290717)"
      ]
     },
     "execution_count": 29,
     "metadata": {},
     "output_type": "execute_result"
    },
    {
     "data": {
      "image/png": "[encoded data removed]",
      "text/plain": [
       "<matplotlib.figure.Figure at 0x7fbbbef10550>"
      ]
     },
     "metadata": {},
     "output_type": "display_data"
    }
   ],
   "source": [
    "fix, ax = plt.subplots(figsize=(10,6))\n",
    "colors = 'rbgyrbgy'\n",
    "for col in combos.region.unique():\n",
    "    plt_data = grouped.loc[grouped.index.get_level_values(1)==col]\n",
    "    plt.plot(plt_data.index.get_level_values(0), plt_data['dif_div_pred'], color=colors[int(col)])\n",
    "    \n",
    "plt.legend(['Midwest', 'Northeast', 'West', 'South'], loc='upper right', title='region')\n",
    "plt.xlabel('pct pop change 2000-2010')\n",
    "plt.ylabel('diff in specialization 2000-2010')\n",
    "plt.title('predicted values')\n",
    "\n",
    "plt.ylim(df['S_state_diff_0010'].min(), df['S_state_diff_0010'].max())"
   ]
  },
  {
   "cell_type": "markdown",
   "metadata": {},
   "source": [
    "# diversity analysis"
   ]
  },
  {
   "cell_type": "code",
   "execution_count": 31,
   "metadata": {},
   "outputs": [],
   "source": [
    "data['div_diff_4grp_9000'] = df['diversity_4grp_00'] - df['diversity_4grp_90']\n",
    "data['div_diff_4grp_0010'] = df['diversity_4grp_10'] - df['diversity_4grp_00']"
   ]
  },
  {
   "cell_type": "code",
   "execution_count": 32,
   "metadata": {},
   "outputs": [
    {
     "name": "stdout",
     "output_type": "stream",
     "text": [
      "                            OLS Regression Results                            \n",
      "==============================================================================\n",
      "Dep. Variable:     div_diff_4grp_0010   R-squared:                       0.239\n",
      "Model:                            OLS   Adj. R-squared:                  0.237\n",
      "Method:                 Least Squares   F-statistic:                     116.9\n",
      "Date:                Tue, 16 Oct 2018   Prob (F-statistic):          2.29e-133\n",
      "Time:                        22:20:53   Log-Likelihood:                 4751.0\n",
      "No. Observations:                3105   AIC:                            -9488.\n",
      "Df Residuals:                    3098   BIC:                            -9446.\n",
      "Df Model:                           6                                         \n",
      "Covariance Type:                  HC3                                         \n",
      "====================================================================================\n",
      "                       coef    std err          z      P>|z|      [0.025      0.975]\n",
      "------------------------------------------------------------------------------------\n",
      "ppctchg_0010         0.0014      0.000      9.250      0.000       0.001       0.002\n",
      "pop00_ln             0.0093      0.001      8.205      0.000       0.007       0.011\n",
      "pwhite_00            0.0833      0.007     11.744      0.000       0.069       0.097\n",
      "region_Northeast    -0.0005      0.004     -0.121      0.904      -0.009       0.008\n",
      "region_South        -0.0016      0.003     -0.570      0.569      -0.007       0.004\n",
      "region_West         -0.0164      0.003     -5.043      0.000      -0.023      -0.010\n",
      "intercept           -0.0944      0.015     -6.419      0.000      -0.123      -0.066\n",
      "==============================================================================\n",
      "Omnibus:                      677.443   Durbin-Watson:                   1.866\n",
      "Prob(Omnibus):                  0.000   Jarque-Bera (JB):             4020.097\n",
      "Skew:                           0.901   Prob(JB):                         0.00\n",
      "Kurtosis:                       8.275   Cond. No.                         188.\n",
      "==============================================================================\n",
      "\n",
      "Warnings:\n",
      "[1] Standard Errors are heteroscedasticity robust (HC3)\n"
     ]
    }
   ],
   "source": [
    "# run model\n",
    "results = sm.OLS(data['div_diff_4grp_0010'], data[train_cols]).fit(cov_type='HC3')\n",
    "print results.summary()"
   ]
  },
  {
   "cell_type": "code",
   "execution_count": 33,
   "metadata": {
    "collapsed": true
   },
   "outputs": [],
   "source": [
    "# make predictions on the enumerated dataset\n",
    "combos['dif_div_pred'] = results.predict(combos[train_cols])"
   ]
  },
  {
   "cell_type": "code",
   "execution_count": 34,
   "metadata": {},
   "outputs": [
    {
     "name": "stdout",
     "output_type": "stream",
     "text": [
      "                     dif_div_pred\n",
      "ppctchg_0010 region              \n",
      "-46.604856   1.0         0.008149\n",
      "             2.0         0.007610\n",
      "             3.0         0.006575\n",
      "             4.0        -0.008269\n",
      "-29.165277   1.0         0.032525\n"
     ]
    }
   ],
   "source": [
    "grouped = pd.pivot_table(combos, values=['dif_div_pred'], index=['ppctchg_0010', 'region'], aggfunc=np.mean)\n",
    "print grouped.head()"
   ]
  },
  {
   "cell_type": "code",
   "execution_count": 35,
   "metadata": {},
   "outputs": [
    {
     "data": {
      "text/plain": [
       "(-0.15589028388601472, 0.54463074928049204)"
      ]
     },
     "execution_count": 35,
     "metadata": {},
     "output_type": "execute_result"
    },
    {
     "data": {
      "image/png": "[encoded data removed]",
      "text/plain": [
       "<matplotlib.figure.Figure at 0x7fbbbef85d50>"
      ]
     },
     "metadata": {},
     "output_type": "display_data"
    }
   ],
   "source": [
    "fix, ax = plt.subplots(figsize=(10,6))\n",
    "colors = 'rbgyrbgy'\n",
    "for col in combos.region.unique():\n",
    "    plt_data = grouped.loc[grouped.index.get_level_values(1)==col]\n",
    "    plt.plot(plt_data.index.get_level_values(0), plt_data['dif_div_pred'], color=colors[int(col)])\n",
    "    \n",
    "plt.legend(['Midwest', 'Northeast', 'West', 'South'], loc='upper right', title='region')\n",
    "plt.xlabel('pct pop change 2000-2010')\n",
    "plt.ylabel('diff in diversity 2000-2010')\n",
    "plt.title('predicted values')\n",
    "\n",
    "plt.ylim(df['div_diff_4grp_9000'].min(), df['div_diff_4grp_9000'].max())"
   ]
  },
  {
   "cell_type": "code",
   "execution_count": null,
   "metadata": {
    "collapsed": true
   },
   "outputs": [],
   "source": []
  }
 ],
 "metadata": {
  "kernelspec": {
   "display_name": "Python 2",
   "language": "python",
   "name": "python2"
  },
  "language_info": {
   "codemirror_mode": {
    "name": "ipython",
    "version": 2
   },
   "file_extension": ".py",
   "mimetype": "text/x-python",
   "name": "python",
   "nbconvert_exporter": "python",
   "pygments_lexer": "ipython2",
   "version": "2.7.14"
  }
 },
 "nbformat": 4,
 "nbformat_minor": 2
}
