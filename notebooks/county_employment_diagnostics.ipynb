{
 "cells": [
  {
   "cell_type": "code",
   "execution_count": 1,
   "metadata": {},
   "outputs": [],
   "source": [
    "import sqlite3 as sql\n",
    "import pandas as pd\n",
    "import numpy as np\n",
    "from matplotlib import pyplot as plt\n",
    "import seaborn as sns\n",
    "%matplotlib inline"
   ]
  },
  {
   "cell_type": "code",
   "execution_count": 10,
   "metadata": {},
   "outputs": [
    {
     "data": {
      "text/html": [
       "<div>\n",
       "<style scoped>\n",
       "    .dataframe tbody tr th:only-of-type {\n",
       "        vertical-align: middle;\n",
       "    }\n",
       "\n",
       "    .dataframe tbody tr th {\n",
       "        vertical-align: top;\n",
       "    }\n",
       "\n",
       "    .dataframe thead th {\n",
       "        text-align: right;\n",
       "    }\n",
       "</style>\n",
       "<table border=\"1\" class=\"dataframe\">\n",
       "  <thead>\n",
       "    <tr style=\"text-align: right;\">\n",
       "      <th></th>\n",
       "      <th>pop90</th>\n",
       "      <th>pop00</th>\n",
       "      <th>pop10</th>\n",
       "      <th>emp90</th>\n",
       "      <th>emp00</th>\n",
       "      <th>emp125</th>\n",
       "    </tr>\n",
       "    <tr>\n",
       "      <th>GISJOIN</th>\n",
       "      <th></th>\n",
       "      <th></th>\n",
       "      <th></th>\n",
       "      <th></th>\n",
       "      <th></th>\n",
       "      <th></th>\n",
       "    </tr>\n",
       "  </thead>\n",
       "  <tbody>\n",
       "    <tr>\n",
       "      <th>G0100010</th>\n",
       "      <td>34223.68</td>\n",
       "      <td>43672.90</td>\n",
       "      <td>54571</td>\n",
       "      <td>15432</td>\n",
       "      <td>19595</td>\n",
       "      <td>24125</td>\n",
       "    </tr>\n",
       "    <tr>\n",
       "      <th>G0100030</th>\n",
       "      <td>98280.00</td>\n",
       "      <td>140415.00</td>\n",
       "      <td>182265</td>\n",
       "      <td>43005</td>\n",
       "      <td>62938</td>\n",
       "      <td>81065</td>\n",
       "    </tr>\n",
       "    <tr>\n",
       "      <th>G0100050</th>\n",
       "      <td>25417.62</td>\n",
       "      <td>29038.85</td>\n",
       "      <td>27457</td>\n",
       "      <td>10313</td>\n",
       "      <td>10193</td>\n",
       "      <td>9177</td>\n",
       "    </tr>\n",
       "    <tr>\n",
       "      <th>G0100070</th>\n",
       "      <td>16610.89</td>\n",
       "      <td>20826.41</td>\n",
       "      <td>22915</td>\n",
       "      <td>6725</td>\n",
       "      <td>7967</td>\n",
       "      <td>8615</td>\n",
       "    </tr>\n",
       "    <tr>\n",
       "      <th>G0100090</th>\n",
       "      <td>39251.65</td>\n",
       "      <td>51028.61</td>\n",
       "      <td>57322</td>\n",
       "      <td>17568</td>\n",
       "      <td>22701</td>\n",
       "      <td>23671</td>\n",
       "    </tr>\n",
       "  </tbody>\n",
       "</table>\n",
       "</div>"
      ],
      "text/plain": [
       "             pop90      pop00   pop10  emp90  emp00  emp125\n",
       "GISJOIN                                                    \n",
       "G0100010  34223.68   43672.90   54571  15432  19595   24125\n",
       "G0100030  98280.00  140415.00  182265  43005  62938   81065\n",
       "G0100050  25417.62   29038.85   27457  10313  10193    9177\n",
       "G0100070  16610.89   20826.41   22915   6725   7967    8615\n",
       "G0100090  39251.65   51028.61   57322  17568  22701   23671"
      ]
     },
     "execution_count": 10,
     "metadata": {},
     "output_type": "execute_result"
    }
   ],
   "source": [
    "db = \"/home/eric/Documents/franklin/narsc2018/generated_data/narsc18.sqlite\"\n",
    "con = sql.connect(db)\n",
    "qry = '''\n",
    "SELECT A.GISJOIN, \n",
    "A.CL8AA1990 AS pop90,\n",
    "A.CL8AA2000 AS pop00,\n",
    "A.CL8AA2010 AS pop10,\n",
    "B.B84AD1990 AS emp90,\n",
    "B.B84AD2000 AS emp00,\n",
    "B.B84AD125 AS emp125\n",
    "FROM nhgis_pop_race_norm_90_10 AS A JOIN county_employment AS B\n",
    "ON A.GISJOIN = B.GISJOIN\n",
    "WHERE B.B84AD2000 <> '' AND B.B84AD1990 <> ''\n",
    ";\n",
    "'''\n",
    "df = pd.read_sql(qry, con, index_col=\"GISJOIN\")\n",
    "con.close()\n",
    "df.head()"
   ]
  },
  {
   "cell_type": "code",
   "execution_count": 11,
   "metadata": {},
   "outputs": [
    {
     "data": {
      "text/plain": [
       "3134"
      ]
     },
     "execution_count": 11,
     "metadata": {},
     "output_type": "execute_result"
    }
   ],
   "source": [
    "len(df)"
   ]
  },
  {
   "cell_type": "code",
   "execution_count": 12,
   "metadata": {},
   "outputs": [
    {
     "data": {
      "text/plain": [
       "pop90     float64\n",
       "pop00     float64\n",
       "pop10       int64\n",
       "emp90       int64\n",
       "emp00       int64\n",
       "emp125      int64\n",
       "dtype: object"
      ]
     },
     "execution_count": 12,
     "metadata": {},
     "output_type": "execute_result"
    }
   ],
   "source": [
    "df.dtypes"
   ]
  },
  {
   "cell_type": "code",
   "execution_count": 16,
   "metadata": {},
   "outputs": [
    {
     "data": {
      "text/html": [
       "<div>\n",
       "<style scoped>\n",
       "    .dataframe tbody tr th:only-of-type {\n",
       "        vertical-align: middle;\n",
       "    }\n",
       "\n",
       "    .dataframe tbody tr th {\n",
       "        vertical-align: top;\n",
       "    }\n",
       "\n",
       "    .dataframe thead th {\n",
       "        text-align: right;\n",
       "    }\n",
       "</style>\n",
       "<table border=\"1\" class=\"dataframe\">\n",
       "  <thead>\n",
       "    <tr style=\"text-align: right;\">\n",
       "      <th></th>\n",
       "      <th>pop90</th>\n",
       "      <th>pop00</th>\n",
       "      <th>pop10</th>\n",
       "      <th>emp90</th>\n",
       "      <th>emp00</th>\n",
       "      <th>emp125</th>\n",
       "    </tr>\n",
       "  </thead>\n",
       "  <tbody>\n",
       "    <tr>\n",
       "      <th>count</th>\n",
       "      <td>3.134000e+03</td>\n",
       "      <td>3.134000e+03</td>\n",
       "      <td>3.134000e+03</td>\n",
       "      <td>3.134000e+03</td>\n",
       "      <td>3.134000e+03</td>\n",
       "      <td>3.134000e+03</td>\n",
       "    </tr>\n",
       "    <tr>\n",
       "      <th>mean</th>\n",
       "      <td>7.872616e+04</td>\n",
       "      <td>8.905882e+04</td>\n",
       "      <td>9.769492e+04</td>\n",
       "      <td>3.661984e+04</td>\n",
       "      <td>4.109452e+04</td>\n",
       "      <td>4.493450e+04</td>\n",
       "    </tr>\n",
       "    <tr>\n",
       "      <th>std</th>\n",
       "      <td>2.619843e+05</td>\n",
       "      <td>2.901878e+05</td>\n",
       "      <td>3.103729e+05</td>\n",
       "      <td>1.255092e+05</td>\n",
       "      <td>1.297352e+05</td>\n",
       "      <td>1.446387e+05</td>\n",
       "    </tr>\n",
       "    <tr>\n",
       "      <th>min</th>\n",
       "      <td>1.070000e+02</td>\n",
       "      <td>6.700000e+01</td>\n",
       "      <td>8.200000e+01</td>\n",
       "      <td>4.100000e+01</td>\n",
       "      <td>4.200000e+01</td>\n",
       "      <td>5.400000e+01</td>\n",
       "    </tr>\n",
       "    <tr>\n",
       "      <th>25%</th>\n",
       "      <td>1.036950e+04</td>\n",
       "      <td>1.127000e+04</td>\n",
       "      <td>1.115950e+04</td>\n",
       "      <td>4.104250e+03</td>\n",
       "      <td>4.624000e+03</td>\n",
       "      <td>4.619500e+03</td>\n",
       "    </tr>\n",
       "    <tr>\n",
       "      <th>50%</th>\n",
       "      <td>2.222385e+04</td>\n",
       "      <td>2.466919e+04</td>\n",
       "      <td>2.590150e+04</td>\n",
       "      <td>9.219000e+03</td>\n",
       "      <td>1.069700e+04</td>\n",
       "      <td>1.076300e+04</td>\n",
       "    </tr>\n",
       "    <tr>\n",
       "      <th>75%</th>\n",
       "      <td>5.475673e+04</td>\n",
       "      <td>6.178396e+04</td>\n",
       "      <td>6.697200e+04</td>\n",
       "      <td>2.385400e+04</td>\n",
       "      <td>2.773100e+04</td>\n",
       "      <td>2.932050e+04</td>\n",
       "    </tr>\n",
       "    <tr>\n",
       "      <th>max</th>\n",
       "      <td>8.862994e+06</td>\n",
       "      <td>9.519099e+06</td>\n",
       "      <td>9.818605e+06</td>\n",
       "      <td>4.203792e+06</td>\n",
       "      <td>3.953415e+06</td>\n",
       "      <td>4.495118e+06</td>\n",
       "    </tr>\n",
       "  </tbody>\n",
       "</table>\n",
       "</div>"
      ],
      "text/plain": [
       "              pop90         pop00         pop10         emp90         emp00  \\\n",
       "count  3.134000e+03  3.134000e+03  3.134000e+03  3.134000e+03  3.134000e+03   \n",
       "mean   7.872616e+04  8.905882e+04  9.769492e+04  3.661984e+04  4.109452e+04   \n",
       "std    2.619843e+05  2.901878e+05  3.103729e+05  1.255092e+05  1.297352e+05   \n",
       "min    1.070000e+02  6.700000e+01  8.200000e+01  4.100000e+01  4.200000e+01   \n",
       "25%    1.036950e+04  1.127000e+04  1.115950e+04  4.104250e+03  4.624000e+03   \n",
       "50%    2.222385e+04  2.466919e+04  2.590150e+04  9.219000e+03  1.069700e+04   \n",
       "75%    5.475673e+04  6.178396e+04  6.697200e+04  2.385400e+04  2.773100e+04   \n",
       "max    8.862994e+06  9.519099e+06  9.818605e+06  4.203792e+06  3.953415e+06   \n",
       "\n",
       "             emp125  \n",
       "count  3.134000e+03  \n",
       "mean   4.493450e+04  \n",
       "std    1.446387e+05  \n",
       "min    5.400000e+01  \n",
       "25%    4.619500e+03  \n",
       "50%    1.076300e+04  \n",
       "75%    2.932050e+04  \n",
       "max    4.495118e+06  "
      ]
     },
     "execution_count": 16,
     "metadata": {},
     "output_type": "execute_result"
    }
   ],
   "source": [
    "# scatter employment 00 against 12\n",
    "df.describe()"
   ]
  },
  {
   "cell_type": "code",
   "execution_count": 18,
   "metadata": {},
   "outputs": [],
   "source": [
    "# calc pct change in employment and pop\n",
    "df['ppctchg_0010'] = ( df['pop10'] - df['pop00'] ) * 1.0 / df['pop00'] * 100\n",
    "\n",
    "df['eppctchg_0012'] = ( df['emp125'] - df['emp00'] ) * 1.0 / df['emp00'] * 100"
   ]
  },
  {
   "cell_type": "code",
   "execution_count": 21,
   "metadata": {},
   "outputs": [
    {
     "data": {
      "text/plain": [
       "<matplotlib.axes._subplots.AxesSubplot at 0x7f9f24b61bd0>"
      ]
     },
     "execution_count": 21,
     "metadata": {},
     "output_type": "execute_result"
    },
    {
     "data": {
      "image/png": "[encoded data removed]",
      "text/plain": [
       "<Figure size 432x288 with 1 Axes>"
      ]
     },
     "metadata": {},
     "output_type": "display_data"
    }
   ],
   "source": [
    "# plot change in employed pop to change in pop\n",
    "df.plot.scatter('eppctchg_0012', 'ppctchg_0010')"
   ]
  },
  {
   "cell_type": "markdown",
   "metadata": {},
   "source": [
    "It is not surprising that these two things closely correspond to each other, as loss of pop usually means loss of employed pop. So does jobs data from BLS get us somewhere better? "
   ]
  },
  {
   "cell_type": "code",
   "execution_count": null,
   "metadata": {},
   "outputs": [],
   "source": []
  }
 ],
 "metadata": {
  "kernelspec": {
   "display_name": "Python 2",
   "language": "python",
   "name": "python2"
  },
  "language_info": {
   "codemirror_mode": {
    "name": "ipython",
    "version": 2
   },
   "file_extension": ".py",
   "mimetype": "text/x-python",
   "name": "python",
   "nbconvert_exporter": "python",
   "pygments_lexer": "ipython2",
   "version": "2.7.15"
  }
 },
 "nbformat": 4,
 "nbformat_minor": 2
}
